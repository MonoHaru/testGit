{
  "nbformat": 4,
  "nbformat_minor": 0,
  "metadata": {
    "colab": {
      "name": "파이토치(PyTorch) 기초.ipynb",
      "provenance": [],
      "collapsed_sections": [],
      "machine_shape": "hm",
      "include_colab_link": true
    },
    "kernelspec": {
      "name": "python3",
      "display_name": "Python 3"
    },
    "accelerator": "GPU",
    "widgets": {
      "application/vnd.jupyter.widget-state+json": {
        "a40ab138601949a5b0e7235adb7b6f80": {
          "model_module": "@jupyter-widgets/controls",
          "model_name": "HBoxModel",
          "model_module_version": "1.5.0",
          "state": {
            "_dom_classes": [],
            "_model_module": "@jupyter-widgets/controls",
            "_model_module_version": "1.5.0",
            "_model_name": "HBoxModel",
            "_view_count": null,
            "_view_module": "@jupyter-widgets/controls",
            "_view_module_version": "1.5.0",
            "_view_name": "HBoxView",
            "box_style": "",
            "children": [
              "IPY_MODEL_fc6ad2240f4c49f6ac5e3f51df73de6a",
              "IPY_MODEL_95ca3d1920b845d9a4bb815ea3a3a398",
              "IPY_MODEL_caf479af1a3f41b79f888dff16209ed4"
            ],
            "layout": "IPY_MODEL_69fab5b022fc49d0a1bf3a571599ddf6"
          }
        },
        "fc6ad2240f4c49f6ac5e3f51df73de6a": {
          "model_module": "@jupyter-widgets/controls",
          "model_name": "HTMLModel",
          "model_module_version": "1.5.0",
          "state": {
            "_dom_classes": [],
            "_model_module": "@jupyter-widgets/controls",
            "_model_module_version": "1.5.0",
            "_model_name": "HTMLModel",
            "_view_count": null,
            "_view_module": "@jupyter-widgets/controls",
            "_view_module_version": "1.5.0",
            "_view_name": "HTMLView",
            "description": "",
            "description_tooltip": null,
            "layout": "IPY_MODEL_b2515f58ae2744f19fa30683719741f4",
            "placeholder": "​",
            "style": "IPY_MODEL_150f1b3e9aa341bb9e096ee00166e3e7",
            "value": ""
          }
        },
        "95ca3d1920b845d9a4bb815ea3a3a398": {
          "model_module": "@jupyter-widgets/controls",
          "model_name": "FloatProgressModel",
          "model_module_version": "1.5.0",
          "state": {
            "_dom_classes": [],
            "_model_module": "@jupyter-widgets/controls",
            "_model_module_version": "1.5.0",
            "_model_name": "FloatProgressModel",
            "_view_count": null,
            "_view_module": "@jupyter-widgets/controls",
            "_view_module_version": "1.5.0",
            "_view_name": "ProgressView",
            "bar_style": "success",
            "description": "",
            "description_tooltip": null,
            "layout": "IPY_MODEL_13272c11ae7f42b1bfaf1346bc0c87b7",
            "max": 9912422,
            "min": 0,
            "orientation": "horizontal",
            "style": "IPY_MODEL_a8ac2755870c42eb9bf558c9f29393f2",
            "value": 9912422
          }
        },
        "caf479af1a3f41b79f888dff16209ed4": {
          "model_module": "@jupyter-widgets/controls",
          "model_name": "HTMLModel",
          "model_module_version": "1.5.0",
          "state": {
            "_dom_classes": [],
            "_model_module": "@jupyter-widgets/controls",
            "_model_module_version": "1.5.0",
            "_model_name": "HTMLModel",
            "_view_count": null,
            "_view_module": "@jupyter-widgets/controls",
            "_view_module_version": "1.5.0",
            "_view_name": "HTMLView",
            "description": "",
            "description_tooltip": null,
            "layout": "IPY_MODEL_d65cb8f1d12d48de94d269307e335a0c",
            "placeholder": "​",
            "style": "IPY_MODEL_7e70bcf63ca445f38083d48bb2fbaf2a",
            "value": " 9913344/? [00:00&lt;00:00, 11568716.03it/s]"
          }
        },
        "69fab5b022fc49d0a1bf3a571599ddf6": {
          "model_module": "@jupyter-widgets/base",
          "model_name": "LayoutModel",
          "model_module_version": "1.2.0",
          "state": {
            "_model_module": "@jupyter-widgets/base",
            "_model_module_version": "1.2.0",
            "_model_name": "LayoutModel",
            "_view_count": null,
            "_view_module": "@jupyter-widgets/base",
            "_view_module_version": "1.2.0",
            "_view_name": "LayoutView",
            "align_content": null,
            "align_items": null,
            "align_self": null,
            "border": null,
            "bottom": null,
            "display": null,
            "flex": null,
            "flex_flow": null,
            "grid_area": null,
            "grid_auto_columns": null,
            "grid_auto_flow": null,
            "grid_auto_rows": null,
            "grid_column": null,
            "grid_gap": null,
            "grid_row": null,
            "grid_template_areas": null,
            "grid_template_columns": null,
            "grid_template_rows": null,
            "height": null,
            "justify_content": null,
            "justify_items": null,
            "left": null,
            "margin": null,
            "max_height": null,
            "max_width": null,
            "min_height": null,
            "min_width": null,
            "object_fit": null,
            "object_position": null,
            "order": null,
            "overflow": null,
            "overflow_x": null,
            "overflow_y": null,
            "padding": null,
            "right": null,
            "top": null,
            "visibility": null,
            "width": null
          }
        },
        "b2515f58ae2744f19fa30683719741f4": {
          "model_module": "@jupyter-widgets/base",
          "model_name": "LayoutModel",
          "model_module_version": "1.2.0",
          "state": {
            "_model_module": "@jupyter-widgets/base",
            "_model_module_version": "1.2.0",
            "_model_name": "LayoutModel",
            "_view_count": null,
            "_view_module": "@jupyter-widgets/base",
            "_view_module_version": "1.2.0",
            "_view_name": "LayoutView",
            "align_content": null,
            "align_items": null,
            "align_self": null,
            "border": null,
            "bottom": null,
            "display": null,
            "flex": null,
            "flex_flow": null,
            "grid_area": null,
            "grid_auto_columns": null,
            "grid_auto_flow": null,
            "grid_auto_rows": null,
            "grid_column": null,
            "grid_gap": null,
            "grid_row": null,
            "grid_template_areas": null,
            "grid_template_columns": null,
            "grid_template_rows": null,
            "height": null,
            "justify_content": null,
            "justify_items": null,
            "left": null,
            "margin": null,
            "max_height": null,
            "max_width": null,
            "min_height": null,
            "min_width": null,
            "object_fit": null,
            "object_position": null,
            "order": null,
            "overflow": null,
            "overflow_x": null,
            "overflow_y": null,
            "padding": null,
            "right": null,
            "top": null,
            "visibility": null,
            "width": null
          }
        },
        "150f1b3e9aa341bb9e096ee00166e3e7": {
          "model_module": "@jupyter-widgets/controls",
          "model_name": "DescriptionStyleModel",
          "model_module_version": "1.5.0",
          "state": {
            "_model_module": "@jupyter-widgets/controls",
            "_model_module_version": "1.5.0",
            "_model_name": "DescriptionStyleModel",
            "_view_count": null,
            "_view_module": "@jupyter-widgets/base",
            "_view_module_version": "1.2.0",
            "_view_name": "StyleView",
            "description_width": ""
          }
        },
        "13272c11ae7f42b1bfaf1346bc0c87b7": {
          "model_module": "@jupyter-widgets/base",
          "model_name": "LayoutModel",
          "model_module_version": "1.2.0",
          "state": {
            "_model_module": "@jupyter-widgets/base",
            "_model_module_version": "1.2.0",
            "_model_name": "LayoutModel",
            "_view_count": null,
            "_view_module": "@jupyter-widgets/base",
            "_view_module_version": "1.2.0",
            "_view_name": "LayoutView",
            "align_content": null,
            "align_items": null,
            "align_self": null,
            "border": null,
            "bottom": null,
            "display": null,
            "flex": null,
            "flex_flow": null,
            "grid_area": null,
            "grid_auto_columns": null,
            "grid_auto_flow": null,
            "grid_auto_rows": null,
            "grid_column": null,
            "grid_gap": null,
            "grid_row": null,
            "grid_template_areas": null,
            "grid_template_columns": null,
            "grid_template_rows": null,
            "height": null,
            "justify_content": null,
            "justify_items": null,
            "left": null,
            "margin": null,
            "max_height": null,
            "max_width": null,
            "min_height": null,
            "min_width": null,
            "object_fit": null,
            "object_position": null,
            "order": null,
            "overflow": null,
            "overflow_x": null,
            "overflow_y": null,
            "padding": null,
            "right": null,
            "top": null,
            "visibility": null,
            "width": null
          }
        },
        "a8ac2755870c42eb9bf558c9f29393f2": {
          "model_module": "@jupyter-widgets/controls",
          "model_name": "ProgressStyleModel",
          "model_module_version": "1.5.0",
          "state": {
            "_model_module": "@jupyter-widgets/controls",
            "_model_module_version": "1.5.0",
            "_model_name": "ProgressStyleModel",
            "_view_count": null,
            "_view_module": "@jupyter-widgets/base",
            "_view_module_version": "1.2.0",
            "_view_name": "StyleView",
            "bar_color": null,
            "description_width": ""
          }
        },
        "d65cb8f1d12d48de94d269307e335a0c": {
          "model_module": "@jupyter-widgets/base",
          "model_name": "LayoutModel",
          "model_module_version": "1.2.0",
          "state": {
            "_model_module": "@jupyter-widgets/base",
            "_model_module_version": "1.2.0",
            "_model_name": "LayoutModel",
            "_view_count": null,
            "_view_module": "@jupyter-widgets/base",
            "_view_module_version": "1.2.0",
            "_view_name": "LayoutView",
            "align_content": null,
            "align_items": null,
            "align_self": null,
            "border": null,
            "bottom": null,
            "display": null,
            "flex": null,
            "flex_flow": null,
            "grid_area": null,
            "grid_auto_columns": null,
            "grid_auto_flow": null,
            "grid_auto_rows": null,
            "grid_column": null,
            "grid_gap": null,
            "grid_row": null,
            "grid_template_areas": null,
            "grid_template_columns": null,
            "grid_template_rows": null,
            "height": null,
            "justify_content": null,
            "justify_items": null,
            "left": null,
            "margin": null,
            "max_height": null,
            "max_width": null,
            "min_height": null,
            "min_width": null,
            "object_fit": null,
            "object_position": null,
            "order": null,
            "overflow": null,
            "overflow_x": null,
            "overflow_y": null,
            "padding": null,
            "right": null,
            "top": null,
            "visibility": null,
            "width": null
          }
        },
        "7e70bcf63ca445f38083d48bb2fbaf2a": {
          "model_module": "@jupyter-widgets/controls",
          "model_name": "DescriptionStyleModel",
          "model_module_version": "1.5.0",
          "state": {
            "_model_module": "@jupyter-widgets/controls",
            "_model_module_version": "1.5.0",
            "_model_name": "DescriptionStyleModel",
            "_view_count": null,
            "_view_module": "@jupyter-widgets/base",
            "_view_module_version": "1.2.0",
            "_view_name": "StyleView",
            "description_width": ""
          }
        },
        "505d0b83024d4f4096d33c8764a36d84": {
          "model_module": "@jupyter-widgets/controls",
          "model_name": "HBoxModel",
          "model_module_version": "1.5.0",
          "state": {
            "_dom_classes": [],
            "_model_module": "@jupyter-widgets/controls",
            "_model_module_version": "1.5.0",
            "_model_name": "HBoxModel",
            "_view_count": null,
            "_view_module": "@jupyter-widgets/controls",
            "_view_module_version": "1.5.0",
            "_view_name": "HBoxView",
            "box_style": "",
            "children": [
              "IPY_MODEL_faac7de13ac143f99865c57bd6d3ff67",
              "IPY_MODEL_9422311a938b4d6bb4970e4049884254",
              "IPY_MODEL_0f8c0908446a48a7bfe82fc43bd7d9d8"
            ],
            "layout": "IPY_MODEL_7c6eede8c9c540369bbdb4ff426d3455"
          }
        },
        "faac7de13ac143f99865c57bd6d3ff67": {
          "model_module": "@jupyter-widgets/controls",
          "model_name": "HTMLModel",
          "model_module_version": "1.5.0",
          "state": {
            "_dom_classes": [],
            "_model_module": "@jupyter-widgets/controls",
            "_model_module_version": "1.5.0",
            "_model_name": "HTMLModel",
            "_view_count": null,
            "_view_module": "@jupyter-widgets/controls",
            "_view_module_version": "1.5.0",
            "_view_name": "HTMLView",
            "description": "",
            "description_tooltip": null,
            "layout": "IPY_MODEL_13b0d133c1d24d6092025afaa85d1c1b",
            "placeholder": "​",
            "style": "IPY_MODEL_e2a0fd5b430148329abdef7c6af40a37",
            "value": ""
          }
        },
        "9422311a938b4d6bb4970e4049884254": {
          "model_module": "@jupyter-widgets/controls",
          "model_name": "FloatProgressModel",
          "model_module_version": "1.5.0",
          "state": {
            "_dom_classes": [],
            "_model_module": "@jupyter-widgets/controls",
            "_model_module_version": "1.5.0",
            "_model_name": "FloatProgressModel",
            "_view_count": null,
            "_view_module": "@jupyter-widgets/controls",
            "_view_module_version": "1.5.0",
            "_view_name": "ProgressView",
            "bar_style": "success",
            "description": "",
            "description_tooltip": null,
            "layout": "IPY_MODEL_209176f6167c430db79074fcea556c87",
            "max": 28881,
            "min": 0,
            "orientation": "horizontal",
            "style": "IPY_MODEL_79196c85cbc8452d9a2c3c41df39a7f4",
            "value": 28881
          }
        },
        "0f8c0908446a48a7bfe82fc43bd7d9d8": {
          "model_module": "@jupyter-widgets/controls",
          "model_name": "HTMLModel",
          "model_module_version": "1.5.0",
          "state": {
            "_dom_classes": [],
            "_model_module": "@jupyter-widgets/controls",
            "_model_module_version": "1.5.0",
            "_model_name": "HTMLModel",
            "_view_count": null,
            "_view_module": "@jupyter-widgets/controls",
            "_view_module_version": "1.5.0",
            "_view_name": "HTMLView",
            "description": "",
            "description_tooltip": null,
            "layout": "IPY_MODEL_b16e24a7dbd847d48ee699639cc67e70",
            "placeholder": "​",
            "style": "IPY_MODEL_5bdcfa2b51874a5ba9b6288b00240815",
            "value": " 29696/? [00:00&lt;00:00, 1181189.32it/s]"
          }
        },
        "7c6eede8c9c540369bbdb4ff426d3455": {
          "model_module": "@jupyter-widgets/base",
          "model_name": "LayoutModel",
          "model_module_version": "1.2.0",
          "state": {
            "_model_module": "@jupyter-widgets/base",
            "_model_module_version": "1.2.0",
            "_model_name": "LayoutModel",
            "_view_count": null,
            "_view_module": "@jupyter-widgets/base",
            "_view_module_version": "1.2.0",
            "_view_name": "LayoutView",
            "align_content": null,
            "align_items": null,
            "align_self": null,
            "border": null,
            "bottom": null,
            "display": null,
            "flex": null,
            "flex_flow": null,
            "grid_area": null,
            "grid_auto_columns": null,
            "grid_auto_flow": null,
            "grid_auto_rows": null,
            "grid_column": null,
            "grid_gap": null,
            "grid_row": null,
            "grid_template_areas": null,
            "grid_template_columns": null,
            "grid_template_rows": null,
            "height": null,
            "justify_content": null,
            "justify_items": null,
            "left": null,
            "margin": null,
            "max_height": null,
            "max_width": null,
            "min_height": null,
            "min_width": null,
            "object_fit": null,
            "object_position": null,
            "order": null,
            "overflow": null,
            "overflow_x": null,
            "overflow_y": null,
            "padding": null,
            "right": null,
            "top": null,
            "visibility": null,
            "width": null
          }
        },
        "13b0d133c1d24d6092025afaa85d1c1b": {
          "model_module": "@jupyter-widgets/base",
          "model_name": "LayoutModel",
          "model_module_version": "1.2.0",
          "state": {
            "_model_module": "@jupyter-widgets/base",
            "_model_module_version": "1.2.0",
            "_model_name": "LayoutModel",
            "_view_count": null,
            "_view_module": "@jupyter-widgets/base",
            "_view_module_version": "1.2.0",
            "_view_name": "LayoutView",
            "align_content": null,
            "align_items": null,
            "align_self": null,
            "border": null,
            "bottom": null,
            "display": null,
            "flex": null,
            "flex_flow": null,
            "grid_area": null,
            "grid_auto_columns": null,
            "grid_auto_flow": null,
            "grid_auto_rows": null,
            "grid_column": null,
            "grid_gap": null,
            "grid_row": null,
            "grid_template_areas": null,
            "grid_template_columns": null,
            "grid_template_rows": null,
            "height": null,
            "justify_content": null,
            "justify_items": null,
            "left": null,
            "margin": null,
            "max_height": null,
            "max_width": null,
            "min_height": null,
            "min_width": null,
            "object_fit": null,
            "object_position": null,
            "order": null,
            "overflow": null,
            "overflow_x": null,
            "overflow_y": null,
            "padding": null,
            "right": null,
            "top": null,
            "visibility": null,
            "width": null
          }
        },
        "e2a0fd5b430148329abdef7c6af40a37": {
          "model_module": "@jupyter-widgets/controls",
          "model_name": "DescriptionStyleModel",
          "model_module_version": "1.5.0",
          "state": {
            "_model_module": "@jupyter-widgets/controls",
            "_model_module_version": "1.5.0",
            "_model_name": "DescriptionStyleModel",
            "_view_count": null,
            "_view_module": "@jupyter-widgets/base",
            "_view_module_version": "1.2.0",
            "_view_name": "StyleView",
            "description_width": ""
          }
        },
        "209176f6167c430db79074fcea556c87": {
          "model_module": "@jupyter-widgets/base",
          "model_name": "LayoutModel",
          "model_module_version": "1.2.0",
          "state": {
            "_model_module": "@jupyter-widgets/base",
            "_model_module_version": "1.2.0",
            "_model_name": "LayoutModel",
            "_view_count": null,
            "_view_module": "@jupyter-widgets/base",
            "_view_module_version": "1.2.0",
            "_view_name": "LayoutView",
            "align_content": null,
            "align_items": null,
            "align_self": null,
            "border": null,
            "bottom": null,
            "display": null,
            "flex": null,
            "flex_flow": null,
            "grid_area": null,
            "grid_auto_columns": null,
            "grid_auto_flow": null,
            "grid_auto_rows": null,
            "grid_column": null,
            "grid_gap": null,
            "grid_row": null,
            "grid_template_areas": null,
            "grid_template_columns": null,
            "grid_template_rows": null,
            "height": null,
            "justify_content": null,
            "justify_items": null,
            "left": null,
            "margin": null,
            "max_height": null,
            "max_width": null,
            "min_height": null,
            "min_width": null,
            "object_fit": null,
            "object_position": null,
            "order": null,
            "overflow": null,
            "overflow_x": null,
            "overflow_y": null,
            "padding": null,
            "right": null,
            "top": null,
            "visibility": null,
            "width": null
          }
        },
        "79196c85cbc8452d9a2c3c41df39a7f4": {
          "model_module": "@jupyter-widgets/controls",
          "model_name": "ProgressStyleModel",
          "model_module_version": "1.5.0",
          "state": {
            "_model_module": "@jupyter-widgets/controls",
            "_model_module_version": "1.5.0",
            "_model_name": "ProgressStyleModel",
            "_view_count": null,
            "_view_module": "@jupyter-widgets/base",
            "_view_module_version": "1.2.0",
            "_view_name": "StyleView",
            "bar_color": null,
            "description_width": ""
          }
        },
        "b16e24a7dbd847d48ee699639cc67e70": {
          "model_module": "@jupyter-widgets/base",
          "model_name": "LayoutModel",
          "model_module_version": "1.2.0",
          "state": {
            "_model_module": "@jupyter-widgets/base",
            "_model_module_version": "1.2.0",
            "_model_name": "LayoutModel",
            "_view_count": null,
            "_view_module": "@jupyter-widgets/base",
            "_view_module_version": "1.2.0",
            "_view_name": "LayoutView",
            "align_content": null,
            "align_items": null,
            "align_self": null,
            "border": null,
            "bottom": null,
            "display": null,
            "flex": null,
            "flex_flow": null,
            "grid_area": null,
            "grid_auto_columns": null,
            "grid_auto_flow": null,
            "grid_auto_rows": null,
            "grid_column": null,
            "grid_gap": null,
            "grid_row": null,
            "grid_template_areas": null,
            "grid_template_columns": null,
            "grid_template_rows": null,
            "height": null,
            "justify_content": null,
            "justify_items": null,
            "left": null,
            "margin": null,
            "max_height": null,
            "max_width": null,
            "min_height": null,
            "min_width": null,
            "object_fit": null,
            "object_position": null,
            "order": null,
            "overflow": null,
            "overflow_x": null,
            "overflow_y": null,
            "padding": null,
            "right": null,
            "top": null,
            "visibility": null,
            "width": null
          }
        },
        "5bdcfa2b51874a5ba9b6288b00240815": {
          "model_module": "@jupyter-widgets/controls",
          "model_name": "DescriptionStyleModel",
          "model_module_version": "1.5.0",
          "state": {
            "_model_module": "@jupyter-widgets/controls",
            "_model_module_version": "1.5.0",
            "_model_name": "DescriptionStyleModel",
            "_view_count": null,
            "_view_module": "@jupyter-widgets/base",
            "_view_module_version": "1.2.0",
            "_view_name": "StyleView",
            "description_width": ""
          }
        },
        "1c71047ac8904f5cb8994cc1dcd1de98": {
          "model_module": "@jupyter-widgets/controls",
          "model_name": "HBoxModel",
          "model_module_version": "1.5.0",
          "state": {
            "_dom_classes": [],
            "_model_module": "@jupyter-widgets/controls",
            "_model_module_version": "1.5.0",
            "_model_name": "HBoxModel",
            "_view_count": null,
            "_view_module": "@jupyter-widgets/controls",
            "_view_module_version": "1.5.0",
            "_view_name": "HBoxView",
            "box_style": "",
            "children": [
              "IPY_MODEL_a4e8666c086d45ba96fd1b8706d92478",
              "IPY_MODEL_dedfaa9712ec47e2a9db6344a5557764",
              "IPY_MODEL_57302a054ecd4728914d6ac10e72878e"
            ],
            "layout": "IPY_MODEL_0dd9efc8542b4d5c8b58c270a7f20b51"
          }
        },
        "a4e8666c086d45ba96fd1b8706d92478": {
          "model_module": "@jupyter-widgets/controls",
          "model_name": "HTMLModel",
          "model_module_version": "1.5.0",
          "state": {
            "_dom_classes": [],
            "_model_module": "@jupyter-widgets/controls",
            "_model_module_version": "1.5.0",
            "_model_name": "HTMLModel",
            "_view_count": null,
            "_view_module": "@jupyter-widgets/controls",
            "_view_module_version": "1.5.0",
            "_view_name": "HTMLView",
            "description": "",
            "description_tooltip": null,
            "layout": "IPY_MODEL_0704e9716f994cccb6ce3d70a8a82fc3",
            "placeholder": "​",
            "style": "IPY_MODEL_4a95fbf5d34744558a073640d09a5bab",
            "value": ""
          }
        },
        "dedfaa9712ec47e2a9db6344a5557764": {
          "model_module": "@jupyter-widgets/controls",
          "model_name": "FloatProgressModel",
          "model_module_version": "1.5.0",
          "state": {
            "_dom_classes": [],
            "_model_module": "@jupyter-widgets/controls",
            "_model_module_version": "1.5.0",
            "_model_name": "FloatProgressModel",
            "_view_count": null,
            "_view_module": "@jupyter-widgets/controls",
            "_view_module_version": "1.5.0",
            "_view_name": "ProgressView",
            "bar_style": "success",
            "description": "",
            "description_tooltip": null,
            "layout": "IPY_MODEL_0eee4b1902254b2c83b4447241cfac98",
            "max": 1648877,
            "min": 0,
            "orientation": "horizontal",
            "style": "IPY_MODEL_d89627ffda1e4fb8a6574c6ff86a11c0",
            "value": 1648877
          }
        },
        "57302a054ecd4728914d6ac10e72878e": {
          "model_module": "@jupyter-widgets/controls",
          "model_name": "HTMLModel",
          "model_module_version": "1.5.0",
          "state": {
            "_dom_classes": [],
            "_model_module": "@jupyter-widgets/controls",
            "_model_module_version": "1.5.0",
            "_model_name": "HTMLModel",
            "_view_count": null,
            "_view_module": "@jupyter-widgets/controls",
            "_view_module_version": "1.5.0",
            "_view_name": "HTMLView",
            "description": "",
            "description_tooltip": null,
            "layout": "IPY_MODEL_ddc77087e0d9417abdf014af20e8d466",
            "placeholder": "​",
            "style": "IPY_MODEL_ec79cf49045549c7b722bbefe4d6046a",
            "value": " 1649664/? [00:00&lt;00:00, 11570493.79it/s]"
          }
        },
        "0dd9efc8542b4d5c8b58c270a7f20b51": {
          "model_module": "@jupyter-widgets/base",
          "model_name": "LayoutModel",
          "model_module_version": "1.2.0",
          "state": {
            "_model_module": "@jupyter-widgets/base",
            "_model_module_version": "1.2.0",
            "_model_name": "LayoutModel",
            "_view_count": null,
            "_view_module": "@jupyter-widgets/base",
            "_view_module_version": "1.2.0",
            "_view_name": "LayoutView",
            "align_content": null,
            "align_items": null,
            "align_self": null,
            "border": null,
            "bottom": null,
            "display": null,
            "flex": null,
            "flex_flow": null,
            "grid_area": null,
            "grid_auto_columns": null,
            "grid_auto_flow": null,
            "grid_auto_rows": null,
            "grid_column": null,
            "grid_gap": null,
            "grid_row": null,
            "grid_template_areas": null,
            "grid_template_columns": null,
            "grid_template_rows": null,
            "height": null,
            "justify_content": null,
            "justify_items": null,
            "left": null,
            "margin": null,
            "max_height": null,
            "max_width": null,
            "min_height": null,
            "min_width": null,
            "object_fit": null,
            "object_position": null,
            "order": null,
            "overflow": null,
            "overflow_x": null,
            "overflow_y": null,
            "padding": null,
            "right": null,
            "top": null,
            "visibility": null,
            "width": null
          }
        },
        "0704e9716f994cccb6ce3d70a8a82fc3": {
          "model_module": "@jupyter-widgets/base",
          "model_name": "LayoutModel",
          "model_module_version": "1.2.0",
          "state": {
            "_model_module": "@jupyter-widgets/base",
            "_model_module_version": "1.2.0",
            "_model_name": "LayoutModel",
            "_view_count": null,
            "_view_module": "@jupyter-widgets/base",
            "_view_module_version": "1.2.0",
            "_view_name": "LayoutView",
            "align_content": null,
            "align_items": null,
            "align_self": null,
            "border": null,
            "bottom": null,
            "display": null,
            "flex": null,
            "flex_flow": null,
            "grid_area": null,
            "grid_auto_columns": null,
            "grid_auto_flow": null,
            "grid_auto_rows": null,
            "grid_column": null,
            "grid_gap": null,
            "grid_row": null,
            "grid_template_areas": null,
            "grid_template_columns": null,
            "grid_template_rows": null,
            "height": null,
            "justify_content": null,
            "justify_items": null,
            "left": null,
            "margin": null,
            "max_height": null,
            "max_width": null,
            "min_height": null,
            "min_width": null,
            "object_fit": null,
            "object_position": null,
            "order": null,
            "overflow": null,
            "overflow_x": null,
            "overflow_y": null,
            "padding": null,
            "right": null,
            "top": null,
            "visibility": null,
            "width": null
          }
        },
        "4a95fbf5d34744558a073640d09a5bab": {
          "model_module": "@jupyter-widgets/controls",
          "model_name": "DescriptionStyleModel",
          "model_module_version": "1.5.0",
          "state": {
            "_model_module": "@jupyter-widgets/controls",
            "_model_module_version": "1.5.0",
            "_model_name": "DescriptionStyleModel",
            "_view_count": null,
            "_view_module": "@jupyter-widgets/base",
            "_view_module_version": "1.2.0",
            "_view_name": "StyleView",
            "description_width": ""
          }
        },
        "0eee4b1902254b2c83b4447241cfac98": {
          "model_module": "@jupyter-widgets/base",
          "model_name": "LayoutModel",
          "model_module_version": "1.2.0",
          "state": {
            "_model_module": "@jupyter-widgets/base",
            "_model_module_version": "1.2.0",
            "_model_name": "LayoutModel",
            "_view_count": null,
            "_view_module": "@jupyter-widgets/base",
            "_view_module_version": "1.2.0",
            "_view_name": "LayoutView",
            "align_content": null,
            "align_items": null,
            "align_self": null,
            "border": null,
            "bottom": null,
            "display": null,
            "flex": null,
            "flex_flow": null,
            "grid_area": null,
            "grid_auto_columns": null,
            "grid_auto_flow": null,
            "grid_auto_rows": null,
            "grid_column": null,
            "grid_gap": null,
            "grid_row": null,
            "grid_template_areas": null,
            "grid_template_columns": null,
            "grid_template_rows": null,
            "height": null,
            "justify_content": null,
            "justify_items": null,
            "left": null,
            "margin": null,
            "max_height": null,
            "max_width": null,
            "min_height": null,
            "min_width": null,
            "object_fit": null,
            "object_position": null,
            "order": null,
            "overflow": null,
            "overflow_x": null,
            "overflow_y": null,
            "padding": null,
            "right": null,
            "top": null,
            "visibility": null,
            "width": null
          }
        },
        "d89627ffda1e4fb8a6574c6ff86a11c0": {
          "model_module": "@jupyter-widgets/controls",
          "model_name": "ProgressStyleModel",
          "model_module_version": "1.5.0",
          "state": {
            "_model_module": "@jupyter-widgets/controls",
            "_model_module_version": "1.5.0",
            "_model_name": "ProgressStyleModel",
            "_view_count": null,
            "_view_module": "@jupyter-widgets/base",
            "_view_module_version": "1.2.0",
            "_view_name": "StyleView",
            "bar_color": null,
            "description_width": ""
          }
        },
        "ddc77087e0d9417abdf014af20e8d466": {
          "model_module": "@jupyter-widgets/base",
          "model_name": "LayoutModel",
          "model_module_version": "1.2.0",
          "state": {
            "_model_module": "@jupyter-widgets/base",
            "_model_module_version": "1.2.0",
            "_model_name": "LayoutModel",
            "_view_count": null,
            "_view_module": "@jupyter-widgets/base",
            "_view_module_version": "1.2.0",
            "_view_name": "LayoutView",
            "align_content": null,
            "align_items": null,
            "align_self": null,
            "border": null,
            "bottom": null,
            "display": null,
            "flex": null,
            "flex_flow": null,
            "grid_area": null,
            "grid_auto_columns": null,
            "grid_auto_flow": null,
            "grid_auto_rows": null,
            "grid_column": null,
            "grid_gap": null,
            "grid_row": null,
            "grid_template_areas": null,
            "grid_template_columns": null,
            "grid_template_rows": null,
            "height": null,
            "justify_content": null,
            "justify_items": null,
            "left": null,
            "margin": null,
            "max_height": null,
            "max_width": null,
            "min_height": null,
            "min_width": null,
            "object_fit": null,
            "object_position": null,
            "order": null,
            "overflow": null,
            "overflow_x": null,
            "overflow_y": null,
            "padding": null,
            "right": null,
            "top": null,
            "visibility": null,
            "width": null
          }
        },
        "ec79cf49045549c7b722bbefe4d6046a": {
          "model_module": "@jupyter-widgets/controls",
          "model_name": "DescriptionStyleModel",
          "model_module_version": "1.5.0",
          "state": {
            "_model_module": "@jupyter-widgets/controls",
            "_model_module_version": "1.5.0",
            "_model_name": "DescriptionStyleModel",
            "_view_count": null,
            "_view_module": "@jupyter-widgets/base",
            "_view_module_version": "1.2.0",
            "_view_name": "StyleView",
            "description_width": ""
          }
        },
        "8a2454a1de244994869a515831e4b5e6": {
          "model_module": "@jupyter-widgets/controls",
          "model_name": "HBoxModel",
          "model_module_version": "1.5.0",
          "state": {
            "_dom_classes": [],
            "_model_module": "@jupyter-widgets/controls",
            "_model_module_version": "1.5.0",
            "_model_name": "HBoxModel",
            "_view_count": null,
            "_view_module": "@jupyter-widgets/controls",
            "_view_module_version": "1.5.0",
            "_view_name": "HBoxView",
            "box_style": "",
            "children": [
              "IPY_MODEL_b92e3e9361944276804f6c2ef76bde2c",
              "IPY_MODEL_db0245fe6ecf4648be2cc8a913df1e35",
              "IPY_MODEL_fc9c2a9b09124d39869bc792ffbe473e"
            ],
            "layout": "IPY_MODEL_fceb10933993476f8e5407f85c1a2185"
          }
        },
        "b92e3e9361944276804f6c2ef76bde2c": {
          "model_module": "@jupyter-widgets/controls",
          "model_name": "HTMLModel",
          "model_module_version": "1.5.0",
          "state": {
            "_dom_classes": [],
            "_model_module": "@jupyter-widgets/controls",
            "_model_module_version": "1.5.0",
            "_model_name": "HTMLModel",
            "_view_count": null,
            "_view_module": "@jupyter-widgets/controls",
            "_view_module_version": "1.5.0",
            "_view_name": "HTMLView",
            "description": "",
            "description_tooltip": null,
            "layout": "IPY_MODEL_9e80ea4b0b12497f91abcd03408f5faa",
            "placeholder": "​",
            "style": "IPY_MODEL_b040daddd30c4149848ad555c95cb1e7",
            "value": ""
          }
        },
        "db0245fe6ecf4648be2cc8a913df1e35": {
          "model_module": "@jupyter-widgets/controls",
          "model_name": "FloatProgressModel",
          "model_module_version": "1.5.0",
          "state": {
            "_dom_classes": [],
            "_model_module": "@jupyter-widgets/controls",
            "_model_module_version": "1.5.0",
            "_model_name": "FloatProgressModel",
            "_view_count": null,
            "_view_module": "@jupyter-widgets/controls",
            "_view_module_version": "1.5.0",
            "_view_name": "ProgressView",
            "bar_style": "success",
            "description": "",
            "description_tooltip": null,
            "layout": "IPY_MODEL_d744b18b85504bc3a9e59c9d0af59b24",
            "max": 4542,
            "min": 0,
            "orientation": "horizontal",
            "style": "IPY_MODEL_d3ac206c25204931a28cbcbba0e7cbcb",
            "value": 4542
          }
        },
        "fc9c2a9b09124d39869bc792ffbe473e": {
          "model_module": "@jupyter-widgets/controls",
          "model_name": "HTMLModel",
          "model_module_version": "1.5.0",
          "state": {
            "_dom_classes": [],
            "_model_module": "@jupyter-widgets/controls",
            "_model_module_version": "1.5.0",
            "_model_name": "HTMLModel",
            "_view_count": null,
            "_view_module": "@jupyter-widgets/controls",
            "_view_module_version": "1.5.0",
            "_view_name": "HTMLView",
            "description": "",
            "description_tooltip": null,
            "layout": "IPY_MODEL_975164c0d8ec430b89464452850462d7",
            "placeholder": "​",
            "style": "IPY_MODEL_a13713890fd843bb96956b1aa67e01de",
            "value": " 5120/? [00:00&lt;00:00, 226127.08it/s]"
          }
        },
        "fceb10933993476f8e5407f85c1a2185": {
          "model_module": "@jupyter-widgets/base",
          "model_name": "LayoutModel",
          "model_module_version": "1.2.0",
          "state": {
            "_model_module": "@jupyter-widgets/base",
            "_model_module_version": "1.2.0",
            "_model_name": "LayoutModel",
            "_view_count": null,
            "_view_module": "@jupyter-widgets/base",
            "_view_module_version": "1.2.0",
            "_view_name": "LayoutView",
            "align_content": null,
            "align_items": null,
            "align_self": null,
            "border": null,
            "bottom": null,
            "display": null,
            "flex": null,
            "flex_flow": null,
            "grid_area": null,
            "grid_auto_columns": null,
            "grid_auto_flow": null,
            "grid_auto_rows": null,
            "grid_column": null,
            "grid_gap": null,
            "grid_row": null,
            "grid_template_areas": null,
            "grid_template_columns": null,
            "grid_template_rows": null,
            "height": null,
            "justify_content": null,
            "justify_items": null,
            "left": null,
            "margin": null,
            "max_height": null,
            "max_width": null,
            "min_height": null,
            "min_width": null,
            "object_fit": null,
            "object_position": null,
            "order": null,
            "overflow": null,
            "overflow_x": null,
            "overflow_y": null,
            "padding": null,
            "right": null,
            "top": null,
            "visibility": null,
            "width": null
          }
        },
        "9e80ea4b0b12497f91abcd03408f5faa": {
          "model_module": "@jupyter-widgets/base",
          "model_name": "LayoutModel",
          "model_module_version": "1.2.0",
          "state": {
            "_model_module": "@jupyter-widgets/base",
            "_model_module_version": "1.2.0",
            "_model_name": "LayoutModel",
            "_view_count": null,
            "_view_module": "@jupyter-widgets/base",
            "_view_module_version": "1.2.0",
            "_view_name": "LayoutView",
            "align_content": null,
            "align_items": null,
            "align_self": null,
            "border": null,
            "bottom": null,
            "display": null,
            "flex": null,
            "flex_flow": null,
            "grid_area": null,
            "grid_auto_columns": null,
            "grid_auto_flow": null,
            "grid_auto_rows": null,
            "grid_column": null,
            "grid_gap": null,
            "grid_row": null,
            "grid_template_areas": null,
            "grid_template_columns": null,
            "grid_template_rows": null,
            "height": null,
            "justify_content": null,
            "justify_items": null,
            "left": null,
            "margin": null,
            "max_height": null,
            "max_width": null,
            "min_height": null,
            "min_width": null,
            "object_fit": null,
            "object_position": null,
            "order": null,
            "overflow": null,
            "overflow_x": null,
            "overflow_y": null,
            "padding": null,
            "right": null,
            "top": null,
            "visibility": null,
            "width": null
          }
        },
        "b040daddd30c4149848ad555c95cb1e7": {
          "model_module": "@jupyter-widgets/controls",
          "model_name": "DescriptionStyleModel",
          "model_module_version": "1.5.0",
          "state": {
            "_model_module": "@jupyter-widgets/controls",
            "_model_module_version": "1.5.0",
            "_model_name": "DescriptionStyleModel",
            "_view_count": null,
            "_view_module": "@jupyter-widgets/base",
            "_view_module_version": "1.2.0",
            "_view_name": "StyleView",
            "description_width": ""
          }
        },
        "d744b18b85504bc3a9e59c9d0af59b24": {
          "model_module": "@jupyter-widgets/base",
          "model_name": "LayoutModel",
          "model_module_version": "1.2.0",
          "state": {
            "_model_module": "@jupyter-widgets/base",
            "_model_module_version": "1.2.0",
            "_model_name": "LayoutModel",
            "_view_count": null,
            "_view_module": "@jupyter-widgets/base",
            "_view_module_version": "1.2.0",
            "_view_name": "LayoutView",
            "align_content": null,
            "align_items": null,
            "align_self": null,
            "border": null,
            "bottom": null,
            "display": null,
            "flex": null,
            "flex_flow": null,
            "grid_area": null,
            "grid_auto_columns": null,
            "grid_auto_flow": null,
            "grid_auto_rows": null,
            "grid_column": null,
            "grid_gap": null,
            "grid_row": null,
            "grid_template_areas": null,
            "grid_template_columns": null,
            "grid_template_rows": null,
            "height": null,
            "justify_content": null,
            "justify_items": null,
            "left": null,
            "margin": null,
            "max_height": null,
            "max_width": null,
            "min_height": null,
            "min_width": null,
            "object_fit": null,
            "object_position": null,
            "order": null,
            "overflow": null,
            "overflow_x": null,
            "overflow_y": null,
            "padding": null,
            "right": null,
            "top": null,
            "visibility": null,
            "width": null
          }
        },
        "d3ac206c25204931a28cbcbba0e7cbcb": {
          "model_module": "@jupyter-widgets/controls",
          "model_name": "ProgressStyleModel",
          "model_module_version": "1.5.0",
          "state": {
            "_model_module": "@jupyter-widgets/controls",
            "_model_module_version": "1.5.0",
            "_model_name": "ProgressStyleModel",
            "_view_count": null,
            "_view_module": "@jupyter-widgets/base",
            "_view_module_version": "1.2.0",
            "_view_name": "StyleView",
            "bar_color": null,
            "description_width": ""
          }
        },
        "975164c0d8ec430b89464452850462d7": {
          "model_module": "@jupyter-widgets/base",
          "model_name": "LayoutModel",
          "model_module_version": "1.2.0",
          "state": {
            "_model_module": "@jupyter-widgets/base",
            "_model_module_version": "1.2.0",
            "_model_name": "LayoutModel",
            "_view_count": null,
            "_view_module": "@jupyter-widgets/base",
            "_view_module_version": "1.2.0",
            "_view_name": "LayoutView",
            "align_content": null,
            "align_items": null,
            "align_self": null,
            "border": null,
            "bottom": null,
            "display": null,
            "flex": null,
            "flex_flow": null,
            "grid_area": null,
            "grid_auto_columns": null,
            "grid_auto_flow": null,
            "grid_auto_rows": null,
            "grid_column": null,
            "grid_gap": null,
            "grid_row": null,
            "grid_template_areas": null,
            "grid_template_columns": null,
            "grid_template_rows": null,
            "height": null,
            "justify_content": null,
            "justify_items": null,
            "left": null,
            "margin": null,
            "max_height": null,
            "max_width": null,
            "min_height": null,
            "min_width": null,
            "object_fit": null,
            "object_position": null,
            "order": null,
            "overflow": null,
            "overflow_x": null,
            "overflow_y": null,
            "padding": null,
            "right": null,
            "top": null,
            "visibility": null,
            "width": null
          }
        },
        "a13713890fd843bb96956b1aa67e01de": {
          "model_module": "@jupyter-widgets/controls",
          "model_name": "DescriptionStyleModel",
          "model_module_version": "1.5.0",
          "state": {
            "_model_module": "@jupyter-widgets/controls",
            "_model_module_version": "1.5.0",
            "_model_name": "DescriptionStyleModel",
            "_view_count": null,
            "_view_module": "@jupyter-widgets/base",
            "_view_module_version": "1.2.0",
            "_view_name": "StyleView",
            "description_width": ""
          }
        },
        "c3c8e3d833b347278369860a20b0294d": {
          "model_module": "@jupyter-widgets/controls",
          "model_name": "HBoxModel",
          "model_module_version": "1.5.0",
          "state": {
            "_dom_classes": [],
            "_model_module": "@jupyter-widgets/controls",
            "_model_module_version": "1.5.0",
            "_model_name": "HBoxModel",
            "_view_count": null,
            "_view_module": "@jupyter-widgets/controls",
            "_view_module_version": "1.5.0",
            "_view_name": "HBoxView",
            "box_style": "",
            "children": [
              "IPY_MODEL_ba579c7f5bdf465cba3c5318605f0905",
              "IPY_MODEL_a6ffebe1de3445f3bd60a2ae13683483",
              "IPY_MODEL_c4b29f7c33fd46f49efdfe759d15d2d2"
            ],
            "layout": "IPY_MODEL_25dc19ccaa314477ab76848c6c49e594"
          }
        },
        "ba579c7f5bdf465cba3c5318605f0905": {
          "model_module": "@jupyter-widgets/controls",
          "model_name": "HTMLModel",
          "model_module_version": "1.5.0",
          "state": {
            "_dom_classes": [],
            "_model_module": "@jupyter-widgets/controls",
            "_model_module_version": "1.5.0",
            "_model_name": "HTMLModel",
            "_view_count": null,
            "_view_module": "@jupyter-widgets/controls",
            "_view_module_version": "1.5.0",
            "_view_name": "HTMLView",
            "description": "",
            "description_tooltip": null,
            "layout": "IPY_MODEL_562a44451bd54f3cbfaf802fab681ac4",
            "placeholder": "​",
            "style": "IPY_MODEL_7211d12c88924dd3813ccf110dbde6fb",
            "value": ""
          }
        },
        "a6ffebe1de3445f3bd60a2ae13683483": {
          "model_module": "@jupyter-widgets/controls",
          "model_name": "FloatProgressModel",
          "model_module_version": "1.5.0",
          "state": {
            "_dom_classes": [],
            "_model_module": "@jupyter-widgets/controls",
            "_model_module_version": "1.5.0",
            "_model_name": "FloatProgressModel",
            "_view_count": null,
            "_view_module": "@jupyter-widgets/controls",
            "_view_module_version": "1.5.0",
            "_view_name": "ProgressView",
            "bar_style": "success",
            "description": "",
            "description_tooltip": null,
            "layout": "IPY_MODEL_ffb59bf333bd49d198adb2a85859b923",
            "max": 170498071,
            "min": 0,
            "orientation": "horizontal",
            "style": "IPY_MODEL_cbbae6921a654ed081d47ee46c9c4cc3",
            "value": 170498071
          }
        },
        "c4b29f7c33fd46f49efdfe759d15d2d2": {
          "model_module": "@jupyter-widgets/controls",
          "model_name": "HTMLModel",
          "model_module_version": "1.5.0",
          "state": {
            "_dom_classes": [],
            "_model_module": "@jupyter-widgets/controls",
            "_model_module_version": "1.5.0",
            "_model_name": "HTMLModel",
            "_view_count": null,
            "_view_module": "@jupyter-widgets/controls",
            "_view_module_version": "1.5.0",
            "_view_name": "HTMLView",
            "description": "",
            "description_tooltip": null,
            "layout": "IPY_MODEL_13e8510a09c74509bfc2c6cfde23ca0d",
            "placeholder": "​",
            "style": "IPY_MODEL_a7f92d1c37254ffab074f38b6cff294a",
            "value": " 170499072/? [00:08&lt;00:00, 49256309.54it/s]"
          }
        },
        "25dc19ccaa314477ab76848c6c49e594": {
          "model_module": "@jupyter-widgets/base",
          "model_name": "LayoutModel",
          "model_module_version": "1.2.0",
          "state": {
            "_model_module": "@jupyter-widgets/base",
            "_model_module_version": "1.2.0",
            "_model_name": "LayoutModel",
            "_view_count": null,
            "_view_module": "@jupyter-widgets/base",
            "_view_module_version": "1.2.0",
            "_view_name": "LayoutView",
            "align_content": null,
            "align_items": null,
            "align_self": null,
            "border": null,
            "bottom": null,
            "display": null,
            "flex": null,
            "flex_flow": null,
            "grid_area": null,
            "grid_auto_columns": null,
            "grid_auto_flow": null,
            "grid_auto_rows": null,
            "grid_column": null,
            "grid_gap": null,
            "grid_row": null,
            "grid_template_areas": null,
            "grid_template_columns": null,
            "grid_template_rows": null,
            "height": null,
            "justify_content": null,
            "justify_items": null,
            "left": null,
            "margin": null,
            "max_height": null,
            "max_width": null,
            "min_height": null,
            "min_width": null,
            "object_fit": null,
            "object_position": null,
            "order": null,
            "overflow": null,
            "overflow_x": null,
            "overflow_y": null,
            "padding": null,
            "right": null,
            "top": null,
            "visibility": null,
            "width": null
          }
        },
        "562a44451bd54f3cbfaf802fab681ac4": {
          "model_module": "@jupyter-widgets/base",
          "model_name": "LayoutModel",
          "model_module_version": "1.2.0",
          "state": {
            "_model_module": "@jupyter-widgets/base",
            "_model_module_version": "1.2.0",
            "_model_name": "LayoutModel",
            "_view_count": null,
            "_view_module": "@jupyter-widgets/base",
            "_view_module_version": "1.2.0",
            "_view_name": "LayoutView",
            "align_content": null,
            "align_items": null,
            "align_self": null,
            "border": null,
            "bottom": null,
            "display": null,
            "flex": null,
            "flex_flow": null,
            "grid_area": null,
            "grid_auto_columns": null,
            "grid_auto_flow": null,
            "grid_auto_rows": null,
            "grid_column": null,
            "grid_gap": null,
            "grid_row": null,
            "grid_template_areas": null,
            "grid_template_columns": null,
            "grid_template_rows": null,
            "height": null,
            "justify_content": null,
            "justify_items": null,
            "left": null,
            "margin": null,
            "max_height": null,
            "max_width": null,
            "min_height": null,
            "min_width": null,
            "object_fit": null,
            "object_position": null,
            "order": null,
            "overflow": null,
            "overflow_x": null,
            "overflow_y": null,
            "padding": null,
            "right": null,
            "top": null,
            "visibility": null,
            "width": null
          }
        },
        "7211d12c88924dd3813ccf110dbde6fb": {
          "model_module": "@jupyter-widgets/controls",
          "model_name": "DescriptionStyleModel",
          "model_module_version": "1.5.0",
          "state": {
            "_model_module": "@jupyter-widgets/controls",
            "_model_module_version": "1.5.0",
            "_model_name": "DescriptionStyleModel",
            "_view_count": null,
            "_view_module": "@jupyter-widgets/base",
            "_view_module_version": "1.2.0",
            "_view_name": "StyleView",
            "description_width": ""
          }
        },
        "ffb59bf333bd49d198adb2a85859b923": {
          "model_module": "@jupyter-widgets/base",
          "model_name": "LayoutModel",
          "model_module_version": "1.2.0",
          "state": {
            "_model_module": "@jupyter-widgets/base",
            "_model_module_version": "1.2.0",
            "_model_name": "LayoutModel",
            "_view_count": null,
            "_view_module": "@jupyter-widgets/base",
            "_view_module_version": "1.2.0",
            "_view_name": "LayoutView",
            "align_content": null,
            "align_items": null,
            "align_self": null,
            "border": null,
            "bottom": null,
            "display": null,
            "flex": null,
            "flex_flow": null,
            "grid_area": null,
            "grid_auto_columns": null,
            "grid_auto_flow": null,
            "grid_auto_rows": null,
            "grid_column": null,
            "grid_gap": null,
            "grid_row": null,
            "grid_template_areas": null,
            "grid_template_columns": null,
            "grid_template_rows": null,
            "height": null,
            "justify_content": null,
            "justify_items": null,
            "left": null,
            "margin": null,
            "max_height": null,
            "max_width": null,
            "min_height": null,
            "min_width": null,
            "object_fit": null,
            "object_position": null,
            "order": null,
            "overflow": null,
            "overflow_x": null,
            "overflow_y": null,
            "padding": null,
            "right": null,
            "top": null,
            "visibility": null,
            "width": null
          }
        },
        "cbbae6921a654ed081d47ee46c9c4cc3": {
          "model_module": "@jupyter-widgets/controls",
          "model_name": "ProgressStyleModel",
          "model_module_version": "1.5.0",
          "state": {
            "_model_module": "@jupyter-widgets/controls",
            "_model_module_version": "1.5.0",
            "_model_name": "ProgressStyleModel",
            "_view_count": null,
            "_view_module": "@jupyter-widgets/base",
            "_view_module_version": "1.2.0",
            "_view_name": "StyleView",
            "bar_color": null,
            "description_width": ""
          }
        },
        "13e8510a09c74509bfc2c6cfde23ca0d": {
          "model_module": "@jupyter-widgets/base",
          "model_name": "LayoutModel",
          "model_module_version": "1.2.0",
          "state": {
            "_model_module": "@jupyter-widgets/base",
            "_model_module_version": "1.2.0",
            "_model_name": "LayoutModel",
            "_view_count": null,
            "_view_module": "@jupyter-widgets/base",
            "_view_module_version": "1.2.0",
            "_view_name": "LayoutView",
            "align_content": null,
            "align_items": null,
            "align_self": null,
            "border": null,
            "bottom": null,
            "display": null,
            "flex": null,
            "flex_flow": null,
            "grid_area": null,
            "grid_auto_columns": null,
            "grid_auto_flow": null,
            "grid_auto_rows": null,
            "grid_column": null,
            "grid_gap": null,
            "grid_row": null,
            "grid_template_areas": null,
            "grid_template_columns": null,
            "grid_template_rows": null,
            "height": null,
            "justify_content": null,
            "justify_items": null,
            "left": null,
            "margin": null,
            "max_height": null,
            "max_width": null,
            "min_height": null,
            "min_width": null,
            "object_fit": null,
            "object_position": null,
            "order": null,
            "overflow": null,
            "overflow_x": null,
            "overflow_y": null,
            "padding": null,
            "right": null,
            "top": null,
            "visibility": null,
            "width": null
          }
        },
        "a7f92d1c37254ffab074f38b6cff294a": {
          "model_module": "@jupyter-widgets/controls",
          "model_name": "DescriptionStyleModel",
          "model_module_version": "1.5.0",
          "state": {
            "_model_module": "@jupyter-widgets/controls",
            "_model_module_version": "1.5.0",
            "_model_name": "DescriptionStyleModel",
            "_view_count": null,
            "_view_module": "@jupyter-widgets/base",
            "_view_module_version": "1.2.0",
            "_view_name": "StyleView",
            "description_width": ""
          }
        }
      }
    }
  },
  "cells": [
    {
      "cell_type": "markdown",
      "metadata": {
        "id": "view-in-github",
        "colab_type": "text"
      },
      "source": [
        "<a href=\"https://colab.research.google.com/github/MonoHaru/testGit/blob/main/%ED%8C%8C%EC%9D%B4%ED%86%A0%EC%B9%98(PyTorch)_%EA%B8%B0%EC%B4%88.ipynb\" target=\"_parent\"><img src=\"https://colab.research.google.com/assets/colab-badge.svg\" alt=\"Open In Colab\"/></a>"
      ]
    },
    {
      "cell_type": "markdown",
      "source": [
        "![image.png](data:image/png;base64,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)"
      ],
      "metadata": {
        "id": "hy01I2WDtPN8"
      }
    },
    {
      "cell_type": "markdown",
      "metadata": {
        "id": "f9Xx-jP92OgP"
      },
      "source": [
        "# 파이토치(PyTorch)\n",
        "\n",
        "* 페이스북이 초기 루아(Lua) 언어로 개발된 토치(Torch)를 파이썬 버전으로 개발하여 2017년도에 공개\n",
        "* 초기에 토치(Torch)는 넘파이(NumPy) 라이브러리처럼 과학 연산을 위한 라이브러리로 공개\n",
        "* 이후 GPU를 이용한 텐서 조작 및 동적 신경망 구축이 가능하도록 딥러닝 프레임워크로 발전시킴\n",
        "* 파이썬답게 만들어졌고, 유연하면서도 가속화된 계산 속도를 제공"
      ]
    },
    {
      "cell_type": "code",
      "source": [
        "from google.colab import drive\n",
        "drive.mount('/content/drive')"
      ],
      "metadata": {
        "colab": {
          "base_uri": "https://localhost:8080/"
        },
        "id": "TsD74_7sMHL0",
        "outputId": "ef38bccd-4d80-4ee1-9bac-01e94a174638"
      },
      "execution_count": null,
      "outputs": [
        {
          "output_type": "stream",
          "name": "stdout",
          "text": [
            "Mounted at /content/drive\n"
          ]
        }
      ]
    },
    {
      "cell_type": "markdown",
      "source": [
        "## 파이토치 모듈 구조"
      ],
      "metadata": {
        "id": "oR6ol1iuw7aa"
      }
    },
    {
      "cell_type": "markdown",
      "source": [
        "![image.png](data:image/png;base64,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)"
      ],
      "metadata": {
        "id": "5hrZ4gWixD3H"
      }
    },
    {
      "cell_type": "markdown",
      "source": [
        "<small>출처: Deep Learning with PyTorch by Eli Stevens Luca Antiga. MEAP Publication. https://livebook.manning.com/#!/book/deep-learning-with-pytorch/welcome/v-7/</small>"
      ],
      "metadata": {
        "id": "4-G-Q3GAw9tL"
      }
    },
    {
      "cell_type": "markdown",
      "metadata": {
        "id": "3cxreguz2sL0"
      },
      "source": [
        "## 파이토치의 구성요소\n",
        "\n",
        "- `torch`: 메인 네임스페이스, 텐서 등의 다양한 수학 함수가 포함\n",
        "- `torch.autograd`: 자동 미분 기능을 제공하는 라이브러리\n",
        "- `torch.nn`: 신경망 구축을 위한 데이터 구조나 레이어 등의 라이브러리\n",
        "- `torch.multiprocessing`: 병럴처리 기능을 제공하는 라이브러리\n",
        "- `torch.optim`: SGD(Stochastic Gradient Descent)를 중심으로 한 파라미터 최적화 알고리즘 제공\n",
        "- `torch.utils`: 데이터 조작 등 유틸리티 기능 제공\n",
        "- `torch.onnx`: ONNX(Open Neural Network Exchange), 서로 다른 프레임워크 간의 모델을 공유할 때 사용"
      ]
    },
    {
      "cell_type": "code",
      "source": [
        "import torch\n",
        "import torch.nn as nn\n",
        "import torch.nn.functional as F"
      ],
      "metadata": {
        "id": "o52TXIzlNtMi"
      },
      "execution_count": 64,
      "outputs": []
    },
    {
      "cell_type": "markdown",
      "metadata": {
        "id": "02LdHlTTSz5L"
      },
      "source": [
        "GPU 설정"
      ]
    },
    {
      "cell_type": "code",
      "metadata": {
        "id": "HlPZI5wfDQhv",
        "colab": {
          "base_uri": "https://localhost:8080/"
        },
        "outputId": "9f28650c-f091-479b-c8a1-11f42cf50017"
      },
      "source": [
        "device = torch.device('cuda' if torch.cuda.is_available() else 'cpu')\n",
        "device"
      ],
      "execution_count": 65,
      "outputs": [
        {
          "output_type": "execute_result",
          "data": {
            "text/plain": [
              "device(type='cuda')"
            ]
          },
          "metadata": {},
          "execution_count": 65
        }
      ]
    },
    {
      "cell_type": "markdown",
      "metadata": {
        "id": "I4l1GvIlslKa"
      },
      "source": [
        "## 데이터 준비\n",
        "\n",
        "파이토치에서는 데이터 준비를 위해 `torch.utils.data`의 `Dataset`과 `DataLoader` 사용 가능\n",
        "\n",
        "- `Dataset`에는 다양한 데이터셋이 존재 (MNIST, FashionMNIST, CIFAR10, ...)\n",
        "  - Vision Dataset: https://pytorch.org/vision/stable/datasets.html\n",
        "  - Text Dataset: https://pytorch.org/text/stable/datasets.html\n",
        "  - Audio Dataset: https://pytorch.org/audio/stable/datasets.html\n",
        "- `DataLoader`와 `Dataset`을 통해 `batch_size`, `train` 여부, `transform` 등을 인자로 넣어 데이터를 어떻게 load할 것인지 정해줄 수 있음"
      ]
    },
    {
      "cell_type": "code",
      "source": [
        "from torch.utils.data import Dataset, DataLoader"
      ],
      "metadata": {
        "id": "ccOuOUHtIbNY"
      },
      "execution_count": 66,
      "outputs": []
    },
    {
      "cell_type": "markdown",
      "metadata": {
        "id": "Wah4RsmgrRDP"
      },
      "source": [
        "토치비전(`torchvision`)은 파이토치에서 제공하는 데이터셋들이 모여있는 패키지\n",
        "\n",
        "- `transforms`: 전처리할 때 사용하는 메소드 (https://pytorch.org/docs/stable/torchvision/transforms.html)\n",
        "- `transforms`에서 제공하는 클래스 이외는 일반적으로 클래스를 따로 만들어 전처리 단계를 진행\n"
      ]
    },
    {
      "cell_type": "code",
      "metadata": {
        "id": "akvq4QWmqSil"
      },
      "source": [
        "import torchvision.transforms as transforms\n",
        "from torchvision import datasets"
      ],
      "execution_count": 67,
      "outputs": []
    },
    {
      "cell_type": "markdown",
      "metadata": {
        "id": "PKu5mzyTs-Qj"
      },
      "source": [
        "`DataLoader`의 인자로 들어갈 `transform`을 미리 정의할 수 있고, `Compose`를 통해 리스트 안에 순서대로 전처리 진행\n",
        "\n",
        "`ToTensor`()를 하는 이유는 `torchvision`이 PIL Image 형태로만 입력을 받기 때문에 데이터 처리를 위해서 Tensor형으로 변환 필요"
      ]
    },
    {
      "cell_type": "code",
      "metadata": {
        "id": "y6K7FH-Rs9my"
      },
      "source": [
        "mnist_transform = transforms.Compose([transforms.ToTensor(),\n",
        "                                      transforms.Normalize(mean=(0.5, ), std=(1.0, ))])"
      ],
      "execution_count": null,
      "outputs": []
    },
    {
      "cell_type": "code",
      "metadata": {
        "id": "lldpI2lquBu3",
        "colab": {
          "base_uri": "https://localhost:8080/",
          "height": 439,
          "referenced_widgets": [
            "a40ab138601949a5b0e7235adb7b6f80",
            "fc6ad2240f4c49f6ac5e3f51df73de6a",
            "95ca3d1920b845d9a4bb815ea3a3a398",
            "caf479af1a3f41b79f888dff16209ed4",
            "69fab5b022fc49d0a1bf3a571599ddf6",
            "b2515f58ae2744f19fa30683719741f4",
            "150f1b3e9aa341bb9e096ee00166e3e7",
            "13272c11ae7f42b1bfaf1346bc0c87b7",
            "a8ac2755870c42eb9bf558c9f29393f2",
            "d65cb8f1d12d48de94d269307e335a0c",
            "7e70bcf63ca445f38083d48bb2fbaf2a",
            "505d0b83024d4f4096d33c8764a36d84",
            "faac7de13ac143f99865c57bd6d3ff67",
            "9422311a938b4d6bb4970e4049884254",
            "0f8c0908446a48a7bfe82fc43bd7d9d8",
            "7c6eede8c9c540369bbdb4ff426d3455",
            "13b0d133c1d24d6092025afaa85d1c1b",
            "e2a0fd5b430148329abdef7c6af40a37",
            "209176f6167c430db79074fcea556c87",
            "79196c85cbc8452d9a2c3c41df39a7f4",
            "b16e24a7dbd847d48ee699639cc67e70",
            "5bdcfa2b51874a5ba9b6288b00240815",
            "1c71047ac8904f5cb8994cc1dcd1de98",
            "a4e8666c086d45ba96fd1b8706d92478",
            "dedfaa9712ec47e2a9db6344a5557764",
            "57302a054ecd4728914d6ac10e72878e",
            "0dd9efc8542b4d5c8b58c270a7f20b51",
            "0704e9716f994cccb6ce3d70a8a82fc3",
            "4a95fbf5d34744558a073640d09a5bab",
            "0eee4b1902254b2c83b4447241cfac98",
            "d89627ffda1e4fb8a6574c6ff86a11c0",
            "ddc77087e0d9417abdf014af20e8d466",
            "ec79cf49045549c7b722bbefe4d6046a",
            "8a2454a1de244994869a515831e4b5e6",
            "b92e3e9361944276804f6c2ef76bde2c",
            "db0245fe6ecf4648be2cc8a913df1e35",
            "fc9c2a9b09124d39869bc792ffbe473e",
            "fceb10933993476f8e5407f85c1a2185",
            "9e80ea4b0b12497f91abcd03408f5faa",
            "b040daddd30c4149848ad555c95cb1e7",
            "d744b18b85504bc3a9e59c9d0af59b24",
            "d3ac206c25204931a28cbcbba0e7cbcb",
            "975164c0d8ec430b89464452850462d7",
            "a13713890fd843bb96956b1aa67e01de"
          ]
        },
        "outputId": "dcddeaf1-5abd-42a5-d18a-276ce9d468e5"
      },
      "source": [
        "trainset = datasets.MNIST(root='/content',\n",
        "                          train=True,\n",
        "                          download=True,\n",
        "                          transform=mnist_transform)\n",
        "\n",
        "testset = datasets.MNIST(root='/content',\n",
        "                          train=False,\n",
        "                          download=True,\n",
        "                          transform=mnist_transform)"
      ],
      "execution_count": null,
      "outputs": [
        {
          "output_type": "stream",
          "name": "stdout",
          "text": [
            "Downloading http://yann.lecun.com/exdb/mnist/train-images-idx3-ubyte.gz\n",
            "Downloading http://yann.lecun.com/exdb/mnist/train-images-idx3-ubyte.gz to /content/MNIST/raw/train-images-idx3-ubyte.gz\n"
          ]
        },
        {
          "output_type": "display_data",
          "data": {
            "text/plain": [
              "  0%|          | 0/9912422 [00:00<?, ?it/s]"
            ],
            "application/vnd.jupyter.widget-view+json": {
              "version_major": 2,
              "version_minor": 0,
              "model_id": "a40ab138601949a5b0e7235adb7b6f80"
            }
          },
          "metadata": {}
        },
        {
          "output_type": "stream",
          "name": "stdout",
          "text": [
            "Extracting /content/MNIST/raw/train-images-idx3-ubyte.gz to /content/MNIST/raw\n",
            "\n",
            "Downloading http://yann.lecun.com/exdb/mnist/train-labels-idx1-ubyte.gz\n",
            "Downloading http://yann.lecun.com/exdb/mnist/train-labels-idx1-ubyte.gz to /content/MNIST/raw/train-labels-idx1-ubyte.gz\n"
          ]
        },
        {
          "output_type": "display_data",
          "data": {
            "text/plain": [
              "  0%|          | 0/28881 [00:00<?, ?it/s]"
            ],
            "application/vnd.jupyter.widget-view+json": {
              "version_major": 2,
              "version_minor": 0,
              "model_id": "505d0b83024d4f4096d33c8764a36d84"
            }
          },
          "metadata": {}
        },
        {
          "output_type": "stream",
          "name": "stdout",
          "text": [
            "Extracting /content/MNIST/raw/train-labels-idx1-ubyte.gz to /content/MNIST/raw\n",
            "\n",
            "Downloading http://yann.lecun.com/exdb/mnist/t10k-images-idx3-ubyte.gz\n",
            "Downloading http://yann.lecun.com/exdb/mnist/t10k-images-idx3-ubyte.gz to /content/MNIST/raw/t10k-images-idx3-ubyte.gz\n"
          ]
        },
        {
          "output_type": "display_data",
          "data": {
            "text/plain": [
              "  0%|          | 0/1648877 [00:00<?, ?it/s]"
            ],
            "application/vnd.jupyter.widget-view+json": {
              "version_major": 2,
              "version_minor": 0,
              "model_id": "1c71047ac8904f5cb8994cc1dcd1de98"
            }
          },
          "metadata": {}
        },
        {
          "output_type": "stream",
          "name": "stdout",
          "text": [
            "Extracting /content/MNIST/raw/t10k-images-idx3-ubyte.gz to /content/MNIST/raw\n",
            "\n",
            "Downloading http://yann.lecun.com/exdb/mnist/t10k-labels-idx1-ubyte.gz\n",
            "Downloading http://yann.lecun.com/exdb/mnist/t10k-labels-idx1-ubyte.gz to /content/MNIST/raw/t10k-labels-idx1-ubyte.gz\n"
          ]
        },
        {
          "output_type": "display_data",
          "data": {
            "text/plain": [
              "  0%|          | 0/4542 [00:00<?, ?it/s]"
            ],
            "application/vnd.jupyter.widget-view+json": {
              "version_major": 2,
              "version_minor": 0,
              "model_id": "8a2454a1de244994869a515831e4b5e6"
            }
          },
          "metadata": {}
        },
        {
          "output_type": "stream",
          "name": "stdout",
          "text": [
            "Extracting /content/MNIST/raw/t10k-labels-idx1-ubyte.gz to /content/MNIST/raw\n",
            "\n"
          ]
        }
      ]
    },
    {
      "cell_type": "markdown",
      "metadata": {
        "id": "zrxymquLxeo8"
      },
      "source": [
        "`DataLoader`는 데이터 전체를 보관했다가 실제 모델 학습을 할 때 `batch_size` 크기만큼 데이터를 가져옴"
      ]
    },
    {
      "cell_type": "code",
      "metadata": {
        "id": "fKddZnT1uQmT"
      },
      "source": [
        "train_loader = DataLoader(trainset, batch_size=8, shuffle=True, num_workers=2)\n",
        "test_loader = DataLoader(testset, batch_size=8, shuffle=False, num_workers=2)"
      ],
      "execution_count": null,
      "outputs": []
    },
    {
      "cell_type": "code",
      "metadata": {
        "id": "hvgMIyF6uUuU",
        "colab": {
          "base_uri": "https://localhost:8080/"
        },
        "outputId": "9586f7b9-d4e7-4251-dc24-3518f2205ceb"
      },
      "source": [
        "dataiter = iter(train_loader)\n",
        "images, labels = dataiter.next()\n",
        "images.shape, labels.shape"
      ],
      "execution_count": null,
      "outputs": [
        {
          "output_type": "execute_result",
          "data": {
            "text/plain": [
              "(torch.Size([8, 1, 28, 28]), torch.Size([8]))"
            ]
          },
          "metadata": {},
          "execution_count": 13
        }
      ]
    },
    {
      "cell_type": "code",
      "metadata": {
        "id": "zDcUY6o4xUQp",
        "colab": {
          "base_uri": "https://localhost:8080/"
        },
        "outputId": "4f133d74-74ab-4444-ee7d-f4da2f50309c"
      },
      "source": [
        "torch_image = torch.squeeze(images[0])\n",
        "torch_image.shape"
      ],
      "execution_count": null,
      "outputs": [
        {
          "output_type": "execute_result",
          "data": {
            "text/plain": [
              "torch.Size([28, 28])"
            ]
          },
          "metadata": {},
          "execution_count": 14
        }
      ]
    },
    {
      "cell_type": "code",
      "source": [
        "import matplotlib.pyplot as plt\n",
        "\n",
        "figure = plt.figure(figsize=(12, 6))\n",
        "cols, rows = 4, 2\n",
        "for i in range(1, cols * rows + 1):\n",
        "  idx = torch.randint(len(trainset), size=(1, )).item()\n",
        "  img, label = trainset[idx]\n",
        "  figure.add_subplot(rows, cols, i)\n",
        "  plt.title(label)\n",
        "  plt.axis('off')\n",
        "  plt.imshow(img.squeeze(), cmap='gray')\n",
        "plt.show()"
      ],
      "metadata": {
        "id": "Fg5oGdrdXXp8",
        "colab": {
          "base_uri": "https://localhost:8080/",
          "height": 370
        },
        "outputId": "f1bbb7b2-4e84-486b-8e06-20e4829d0d5f"
      },
      "execution_count": null,
      "outputs": [
        {
          "output_type": "display_data",
          "data": {
            "text/plain": [
              "<Figure size 864x432 with 8 Axes>"
            ],
            "image/png": "[encoded data removed]"
          },
          "metadata": {
            "needs_background": "light"
          }
        }
      ]
    },
    {
      "cell_type": "markdown",
      "source": [
        "## 모델 정의\n",
        "\n",
        "- 레이어(layer): 신경망의 핵심 데이터 구조로 하나 이상의 텐서를 입력받아 하나 이상의 텐서를 출력\n",
        "- 모듈(module): 한 개 이상의 레이어가 모여서 구성\n",
        "- 모델(model): 한 개 이상의 모듈이 모여서 구성\n",
        "\n"
      ],
      "metadata": {
        "id": "S15SJDjqdu0O"
      }
    },
    {
      "cell_type": "markdown",
      "source": [
        "`nn.Module` 상속 클래스 정의\n",
        "- `__init__()`: 모델에서 사용될 모듈과 활성화 함수 등을 정의\n",
        "- `forward()`: 모델에서 실행되어야 하는 연산을 정의"
      ],
      "metadata": {
        "id": "Htl7QBbD5TQQ"
      }
    },
    {
      "cell_type": "code",
      "source": [
        "class DNN(nn.Module):\n",
        "  def __init__(self):\n",
        "    super(DNN, self).__init__()\n",
        "    self.fc1 = nn.Linear(in_features=784, out_features=256)\n",
        "    self.drop = nn.Dropout(0.3)\n",
        "    self.fc2 = nn.Linear(in_features=256, out_features=128)\n",
        "    self.fc3 = nn.Linear(in_features=128, out_features=10)\n",
        "\n",
        "  def forward(self, inputs):\n",
        "    out = inputs.view(-1, 784)\n",
        "    out = F.relu(self.fc1(out))\n",
        "    out = self.drop(out)\n",
        "    out = F.relu(self.fc2(out))\n",
        "    out = self.fc3(out)\n",
        "    return out"
      ],
      "metadata": {
        "id": "ZZlmLXARtD-b"
      },
      "execution_count": null,
      "outputs": []
    },
    {
      "cell_type": "code",
      "source": [
        "model = DNN().to(device)\n",
        "print(list(model.children()))\n",
        "print()\n",
        "print(list(model.modules()))"
      ],
      "metadata": {
        "id": "c343b7zMtvG2",
        "colab": {
          "base_uri": "https://localhost:8080/"
        },
        "outputId": "19d76ba6-77ac-4d73-c29a-e76ee519544a"
      },
      "execution_count": null,
      "outputs": [
        {
          "output_type": "stream",
          "name": "stdout",
          "text": [
            "[Linear(in_features=784, out_features=256, bias=True), Dropout(p=0.3, inplace=False), Linear(in_features=256, out_features=128, bias=True), Linear(in_features=128, out_features=10, bias=True)]\n",
            "\n",
            "[DNN(\n",
            "  (fc1): Linear(in_features=784, out_features=256, bias=True)\n",
            "  (drop): Dropout(p=0.3, inplace=False)\n",
            "  (fc2): Linear(in_features=256, out_features=128, bias=True)\n",
            "  (fc3): Linear(in_features=128, out_features=10, bias=True)\n",
            "), Linear(in_features=784, out_features=256, bias=True), Dropout(p=0.3, inplace=False), Linear(in_features=256, out_features=128, bias=True), Linear(in_features=128, out_features=10, bias=True)]\n"
          ]
        }
      ]
    },
    {
      "cell_type": "markdown",
      "metadata": {
        "id": "0yuABl4h-yye"
      },
      "source": [
        "## 모델 파라미터\n"
      ]
    },
    {
      "cell_type": "markdown",
      "source": [
        "### 손실 함수(Loss function)\n",
        "\n",
        "* 예측 값과 실제 값 사이의 오차 측정\n",
        "* 학습이 진행되면서 해당 과정이 얼마나 잘 되고 있는지 나타내는 지표\n",
        "* 모델이 훈련되는 동안 최소화될 값으로 주어진 문제에 대한 성공 지표\n",
        "* 손실 함수에 따른 결과를 통해 학습 파라미터를 조정\n",
        "* 최적화 이론에서 최소화 하고자 하는 함수\n",
        "* 미분 가능한 함수 사용\n",
        "* 파이토치의 주요 손실 함수\n",
        "  - `torch.nn.BCELoss`: 이진 분류를 위해 사용\n",
        "  - `torch.nn.CrossEntropyLoss`: 다중 클래스 분류를 위해 사용\n",
        "  - `torch.nn.MSELoss`: 회귀 모델에서 사용"
      ],
      "metadata": {
        "id": "2EUJ4ZJqELiv"
      }
    },
    {
      "cell_type": "code",
      "source": [
        "criterion = nn.CrossEntropyLoss()"
      ],
      "metadata": {
        "id": "uV2LCfc6O9Tk"
      },
      "execution_count": null,
      "outputs": []
    },
    {
      "cell_type": "markdown",
      "source": [
        "### 옵티마이저(Optimizer)\n",
        "\n",
        "* 손실 함수를 기반으로 모델이 어떻게 업데이트되어야 하는지 결정 (특정 종류의 확률적 경사 하강법 구현)\n",
        "* optimizer는 `step()`을 통해 전달받은 파라미터를 모델 업데이트\n",
        "* 모든 옵티마이저의 기본으로 `torch.optim.Optimizer(params, defaults)` 클래스 사용\n",
        "* `zero_grad()`를 이용해 옵티마이저에 사용된 파라미터들의 기울기를 0으로 설정\n",
        "* `torch.optim.lr_scheduler`를 이용해 에포크(epochs)에 따라 학습률(learning rate) 조절\n",
        "* 파이토치의 주요 옵티마이저: `optim.Adadelta`, `optim.Adagrad`, `optim.Adam`, `optim.RMSprop`, `optim.SGD`"
      ],
      "metadata": {
        "id": "SNOk8dyWEF8O"
      }
    },
    {
      "cell_type": "code",
      "source": [
        "import torch.optim as optim\n",
        "\n",
        "optimizer = optim.SGD(model.parameters(), lr=0.001, momentum=0.9)"
      ],
      "metadata": {
        "id": "f_RL2UDyE2mh"
      },
      "execution_count": 68,
      "outputs": []
    },
    {
      "cell_type": "markdown",
      "metadata": {
        "id": "6Fit4HLffPLC"
      },
      "source": [
        "<img src=\"https://img1.daumcdn.net/thumb/R720x0.q80/?scode=mtistory2&fname=http%3A%2F%2Fcfile25.uf.tistory.com%2Fimage%2F222B4F4F562BD0330EA41C\">"
      ]
    },
    {
      "cell_type": "markdown",
      "source": [
        "### 학습률 스케줄러(Learning rate scheduler)\n",
        "\n",
        "* 학습시 특정 조건에 따라 학습률을 조정하여 최적화 진행\n",
        "* 일정 횟수 이상이 되면 학습률을 감소(decay)시키거나 전역 최소점(global minimum) 근처에 가면 학습률을 줄이는 등\n",
        "* 파이토치의 학습률 스케줄러 종류\n",
        "  - `optim.lr_scheduler.LambdaLR`: 람다(lambda) 함수를 이용해 그 결과를 학습률로 설정\n",
        "  - `optim.lr_scheduler.StepLR`: 단계(step)마다 학습률을 감마(gamma) 비율만큼 감소\n",
        "  - `optim.lr_scheduler.MultiStepLR`: `StepLR`과 비슷하지만 특정 단계가 아니라 지정된 에포크에만 감마 비율로 감소\n",
        "  - `optim.lr_scheduler.ExponentialLR`: 에포크마다 이전 학습률에 감마만큼 곱함\n",
        "  - `optim.lr_scheduler.CosineAnnealingLR`: 학습률을 코사인(cosine) 함수의 형태처럼 변화시켜 학습률일 커지기도 하고 작아지기도 함\n",
        "  - `optim.lr_scheduler.ReduceLROnPlateau`: 학습이 잘되는지 아닌지에 따라 동적으로 학습률 변화"
      ],
      "metadata": {
        "id": "An4MW3nvRU0o"
      }
    },
    {
      "cell_type": "markdown",
      "metadata": {
        "id": "bIeasqypMzTB"
      },
      "source": [
        "## 모델 학습"
      ]
    },
    {
      "cell_type": "code",
      "metadata": {
        "id": "wOM83kLrMzTD",
        "colab": {
          "base_uri": "https://localhost:8080/"
        },
        "outputId": "2f99e5d7-5314-41d5-e8c4-5807a41b6c6b"
      },
      "source": [
        "loss_history = []\n",
        "acc_history = []\n",
        "\n",
        "for epoch in range(20):\n",
        "\n",
        "  running_loss = 0.0\n",
        "  running_corrects = 0\n",
        "\n",
        "  for i, data in enumerate(train_loader, 0):\n",
        "    inputs, labels = data[0].to(device), data[1].to(device)\n",
        "    optimizer.zero_grad()\n",
        "    outputs = model(inputs)\n",
        "    loss = criterion(outputs, labels)\n",
        "    _, preds = torch.max(outputs, 1)\n",
        "    loss.backward()\n",
        "    optimizer.step()\n",
        "\n",
        "    running_loss += loss.item() * inputs.size(0)\n",
        "    running_corrects += torch.sum(preds == labels.data)\n",
        "\n",
        "  epoch_loss = running_loss / len(train_loader.dataset)\n",
        "  epoch_acc = running_corrects.to('cpu').numpy() / len(train_loader.dataset)\n",
        "  print('Epoch: {}, Loss: {:.5}, Acc: {:.5f}' .format(epoch+1, epoch_loss, epoch_acc))\n",
        "\n",
        "  loss_history.append(epoch_loss)\n",
        "  acc_history.append(epoch_acc)"
      ],
      "execution_count": null,
      "outputs": [
        {
          "output_type": "stream",
          "name": "stdout",
          "text": [
            "Epoch: 1, Loss: 0.18399, Acc: 0.94455\n",
            "Epoch: 2, Loss: 0.15149, Acc: 0.95423\n",
            "Epoch: 3, Loss: 0.13069, Acc: 0.96055\n",
            "Epoch: 4, Loss: 0.11688, Acc: 0.96465\n",
            "Epoch: 5, Loss: 0.10771, Acc: 0.96670\n",
            "Epoch: 6, Loss: 0.095747, Acc: 0.97038\n",
            "Epoch: 7, Loss: 0.088802, Acc: 0.97237\n",
            "Epoch: 8, Loss: 0.083045, Acc: 0.97390\n",
            "Epoch: 9, Loss: 0.079492, Acc: 0.97542\n",
            "Epoch: 10, Loss: 0.073959, Acc: 0.97648\n",
            "Epoch: 11, Loss: 0.069961, Acc: 0.97850\n",
            "Epoch: 12, Loss: 0.066677, Acc: 0.97828\n",
            "Epoch: 13, Loss: 0.063593, Acc: 0.97983\n",
            "Epoch: 14, Loss: 0.061035, Acc: 0.98078\n",
            "Epoch: 15, Loss: 0.056789, Acc: 0.98133\n",
            "Epoch: 16, Loss: 0.054693, Acc: 0.98237\n",
            "Epoch: 17, Loss: 0.050988, Acc: 0.98348\n",
            "Epoch: 18, Loss: 0.048634, Acc: 0.98410\n",
            "Epoch: 19, Loss: 0.049695, Acc: 0.98313\n",
            "Epoch: 20, Loss: 0.045112, Acc: 0.98543\n"
          ]
        }
      ]
    },
    {
      "cell_type": "markdown",
      "source": [
        ""
      ],
      "metadata": {
        "id": "9tlVsaenRzox"
      }
    },
    {
      "cell_type": "code",
      "source": [
        "plt.plot(loss_history)\n",
        "plt.plot(acc_history)\n",
        "plt.show()"
      ],
      "metadata": {
        "id": "55sKYhlK7JjH",
        "colab": {
          "base_uri": "https://localhost:8080/",
          "height": 265
        },
        "outputId": "1a3fb598-33c4-4cc2-b37a-07a05729df90"
      },
      "execution_count": null,
      "outputs": [
        {
          "output_type": "display_data",
          "data": {
            "text/plain": [
              "<Figure size 432x288 with 1 Axes>"
            ],
            "image/png": "[encoded data removed]"
          },
          "metadata": {
            "needs_background": "light"
          }
        }
      ]
    },
    {
      "cell_type": "markdown",
      "metadata": {
        "id": "P9zbOMTKMzTE"
      },
      "source": [
        "## 모델의 저장 및 로드\n",
        "\n",
        "- `torch.save`: `state_dict()`를 저장\n",
        "- `torch.load`: `load_state_dict`로 모델을 로드"
      ]
    },
    {
      "cell_type": "code",
      "metadata": {
        "id": "lV765PPZMzTE"
      },
      "source": [
        "PATH = './mnist.pth'\n",
        "torch.save(model.state_dict(), PATH)"
      ],
      "execution_count": null,
      "outputs": []
    },
    {
      "cell_type": "code",
      "metadata": {
        "id": "6EKpzbceMzTF",
        "colab": {
          "base_uri": "https://localhost:8080/"
        },
        "outputId": "19ce9dd9-9faa-4d24-9a1e-a2deaa8c2673"
      },
      "source": [
        "model = DNN()\n",
        "model.load_state_dict(torch.load(PATH))"
      ],
      "execution_count": null,
      "outputs": [
        {
          "output_type": "execute_result",
          "data": {
            "text/plain": [
              "<All keys matched successfully>"
            ]
          },
          "metadata": {},
          "execution_count": 34
        }
      ]
    },
    {
      "cell_type": "code",
      "source": [
        "model.parameters"
      ],
      "metadata": {
        "colab": {
          "base_uri": "https://localhost:8080/"
        },
        "id": "9NqS1uW2Tu-O",
        "outputId": "dcab4e00-1770-490a-e616-d54d2110cf84"
      },
      "execution_count": null,
      "outputs": [
        {
          "output_type": "execute_result",
          "data": {
            "text/plain": [
              "<bound method Module.parameters of DNN(\n",
              "  (fc1): Linear(in_features=784, out_features=256, bias=True)\n",
              "  (drop): Dropout(p=0.3, inplace=False)\n",
              "  (fc2): Linear(in_features=256, out_features=128, bias=True)\n",
              "  (fc3): Linear(in_features=128, out_features=10, bias=True)\n",
              ")>"
            ]
          },
          "metadata": {},
          "execution_count": 35
        }
      ]
    },
    {
      "cell_type": "markdown",
      "metadata": {
        "id": "erigtoHFMzTF"
      },
      "source": [
        "## 모델 평가"
      ]
    },
    {
      "cell_type": "code",
      "source": [
        "import numpy as np\n",
        "\n",
        "def imshow(image):\n",
        "  image = image / 2 + 0.5\n",
        "  npimg = image.numpy()\n",
        "\n",
        "  fig = plt.figure(figsize=(16, 8))\n",
        "  plt.imshow(np.transpose(npimg, (1, 2, 0)))\n",
        "  plt.show()"
      ],
      "metadata": {
        "id": "15lf9kDiMzTG"
      },
      "execution_count": null,
      "outputs": []
    },
    {
      "cell_type": "code",
      "metadata": {
        "id": "_2H4rsOeMzTG",
        "colab": {
          "base_uri": "https://localhost:8080/",
          "height": 168
        },
        "outputId": "1bb02403-e12c-4a40-b14f-0578741431f2"
      },
      "source": [
        "import torchvision\n",
        "\n",
        "dataiter = iter(test_loader)\n",
        "iamges, labels = dataiter.next()\n",
        "\n",
        "imshow(torchvision.utils.make_grid(images))"
      ],
      "execution_count": null,
      "outputs": [
        {
          "output_type": "display_data",
          "data": {
            "text/plain": [
              "<Figure size 1152x576 with 1 Axes>"
            ],
            "image/png": "[encoded data removed]"
          },
          "metadata": {
            "needs_background": "light"
          }
        }
      ]
    },
    {
      "cell_type": "code",
      "metadata": {
        "id": "ygyHlOaMMzTG",
        "colab": {
          "base_uri": "https://localhost:8080/"
        },
        "outputId": "1a14d276-da86-4122-8200-e66b087ee285"
      },
      "source": [
        "outputs = model(images)\n",
        "_, predicted = torch.max(outputs, 1)\n",
        "print(predicted)"
      ],
      "execution_count": null,
      "outputs": [
        {
          "output_type": "stream",
          "name": "stdout",
          "text": [
            "tensor([7, 6, 6, 0, 2, 3, 8, 4])\n"
          ]
        }
      ]
    },
    {
      "cell_type": "code",
      "metadata": {
        "id": "2lVG2NanMzTH",
        "colab": {
          "base_uri": "https://localhost:8080/"
        },
        "outputId": "62cd7361-1ef0-4196-eb6e-d52f4856a6cd"
      },
      "source": [
        "correct = 0\n",
        "total = 0\n",
        "\n",
        "with torch.no_grad():\n",
        "  for data in test_loader:\n",
        "    images, labels = data\n",
        "    outputs = model(images)\n",
        "    _, predicted = torch.max(outputs, 1)\n",
        "    total += labels.size(0)\n",
        "    correct += (predicted == labels).sum().item()\n",
        "\n",
        "  print(100 * correct / total)"
      ],
      "execution_count": null,
      "outputs": [
        {
          "output_type": "stream",
          "name": "stdout",
          "text": [
            "97.43\n"
          ]
        }
      ]
    },
    {
      "cell_type": "markdown",
      "source": [
        "# FashionMNIST 분류 모델"
      ],
      "metadata": {
        "id": "2FKKOgbozBEt"
      }
    },
    {
      "cell_type": "markdown",
      "source": [
        "## 데이터 준비"
      ],
      "metadata": {
        "id": "bmVbeAgY0CYI"
      }
    },
    {
      "cell_type": "code",
      "source": [
        "import torchvision.transforms as transforms\n",
        "from torchvision import datasets\n",
        "\n",
        "transforms = transforms.Compose([transforms.ToTensor(),\n",
        "                                 transforms.Normalize((0.5, ), (0.5, ))])"
      ],
      "metadata": {
        "id": "vYP9dGrWzDqd"
      },
      "execution_count": 82,
      "outputs": []
    },
    {
      "cell_type": "code",
      "source": [
        "trainset = datasets.FashionMNIST(root='/content',\n",
        "                                 train=True,\n",
        "                                 download=True,\n",
        "                                 transform=transforms)\n",
        "testset = datasets.FashionMNIST(root='/content',\n",
        "                                 train=False,\n",
        "                                 download=True,\n",
        "                                 transform=transforms)"
      ],
      "metadata": {
        "id": "VpVsTevTWE5i"
      },
      "execution_count": 83,
      "outputs": []
    },
    {
      "cell_type": "code",
      "source": [
        "train_loader = DataLoader(trainset, batch_size=128, shuffle=True, num_workers=2)\n",
        "test_loader = DataLoader(testset, batch_size=128, shuffle=False, num_workers=2)"
      ],
      "metadata": {
        "id": "Dz-CJf0x0nne"
      },
      "execution_count": 84,
      "outputs": []
    },
    {
      "cell_type": "code",
      "source": [
        "images, labels = next(iter(train_loader))\n",
        "images.shape, labels.shape"
      ],
      "metadata": {
        "id": "iy6D1Rg_07fD",
        "colab": {
          "base_uri": "https://localhost:8080/"
        },
        "outputId": "26deadb0-7f76-486d-8c33-f9e349ef6465"
      },
      "execution_count": 85,
      "outputs": [
        {
          "output_type": "execute_result",
          "data": {
            "text/plain": [
              "(torch.Size([128, 1, 28, 28]), torch.Size([128]))"
            ]
          },
          "metadata": {},
          "execution_count": 85
        }
      ]
    },
    {
      "cell_type": "code",
      "source": [
        "labels_map = {\n",
        "    0: 'T-Shirt', 1: 'Trouser', 2: 'Pullover', 3: 'Dress', 4: 'Coat',\n",
        "    5: 'Sandal', 6: 'Shirt', 7: 'Sneaker', 8: 'Bag', 9: 'Anckel Boot'\n",
        "}\n",
        "\n",
        "figure = plt.figure(figsize=(12, 12))\n",
        "cols, rows = 4, 4\n",
        "for i in range(1, cols * rows +1):\n",
        "  image = images[i].squeeze()\n",
        "  label_idx = labels[i].item()\n",
        "  label = labels_map[label_idx]\n",
        "\n",
        "  figure.add_subplot(rows, cols, i)\n",
        "  plt.title(label)\n",
        "  plt.axis('off')\n",
        "  plt.imshow(image, cmap='gray')\n",
        "\n",
        "plt.show()"
      ],
      "metadata": {
        "id": "_u5_UEAH09SB",
        "colab": {
          "base_uri": "https://localhost:8080/",
          "height": 699
        },
        "outputId": "9da4f651-06fa-4ccc-e441-54e416e80a04"
      },
      "execution_count": 86,
      "outputs": [
        {
          "output_type": "display_data",
          "data": {
            "text/plain": [
              "<Figure size 864x864 with 16 Axes>"
            ],
            "image/png": "[encoded data removed]"
          },
          "metadata": {
            "needs_background": "light"
          }
        }
      ]
    },
    {
      "cell_type": "markdown",
      "source": [
        "## 모델 정의 및 파라미터"
      ],
      "metadata": {
        "id": "a1RU2q1d5JJx"
      }
    },
    {
      "cell_type": "markdown",
      "source": [
        "`nn.Sequential`을 이용한 신경망 정의\n",
        "- `nn.Sequential` 객체로 그 안에 각 모듈을 순차적으로 실행\n",
        "- `__init__()`에서 사용할 네트워크 모델들을 `nn.Sequential`로 정의 가능\n",
        "- `forward()`에서 실행되어야 할 계산을 가독성 높게 작성 가능"
      ],
      "metadata": {
        "id": "n62B_zoTwm3W"
      }
    },
    {
      "cell_type": "code",
      "source": [
        "class CNN(nn.Module):\n",
        "  def __init__(self):\n",
        "    super(CNN, self).__init__()\n",
        "    self.cn1 = nn.Sequential(\n",
        "        nn.Conv2d(in_channels=1, out_channels=32, kernel_size=3, padding=1),\n",
        "        nn.BatchNorm2d(32),\n",
        "        nn.ReLU(),\n",
        "        nn.MaxPool2d(kernel_size=2, stride=2)\n",
        "    )\n",
        "\n",
        "    self.cn2 = nn.Sequential(\n",
        "        nn.Conv2d(in_channels=32, out_channels=64, kernel_size=3),\n",
        "        nn.BatchNorm2d(64),\n",
        "        nn.ReLU(),\n",
        "        nn.MaxPool2d(kernel_size=2)\n",
        "    )\n",
        "\n",
        "    self.fc1 = nn.Linear(in_features=64*6*6, out_features=600)\n",
        "    self.drop = nn.Dropout2d(0.25)\n",
        "    self.fc2 = nn.Linear(in_features=600, out_features=120)\n",
        "    self.fc3 = nn.Linear(in_features=120, out_features=10)\n",
        "\n",
        "  def forward(self, inputs):\n",
        "    out = self.cn1(inputs)\n",
        "    out = self.cn2(out)\n",
        "    out = out.view(out.size(0), -1)\n",
        "    out = self.fc1(out)\n",
        "    out = self.drop(out)\n",
        "    out = self.fc2(out)\n",
        "    out = self.fc3(out)\n",
        "    return out\n",
        "\n",
        "model = CNN().to(device)\n",
        "print(model)"
      ],
      "metadata": {
        "id": "vxafwtVv2sQS",
        "colab": {
          "base_uri": "https://localhost:8080/"
        },
        "outputId": "6d47c5d9-90d7-4778-992c-f1b6656a4cc6"
      },
      "execution_count": 121,
      "outputs": [
        {
          "output_type": "stream",
          "name": "stdout",
          "text": [
            "CNN(\n",
            "  (cn1): Sequential(\n",
            "    (0): Conv2d(1, 32, kernel_size=(3, 3), stride=(1, 1), padding=(1, 1))\n",
            "    (1): BatchNorm2d(32, eps=1e-05, momentum=0.1, affine=True, track_running_stats=True)\n",
            "    (2): ReLU()\n",
            "    (3): MaxPool2d(kernel_size=2, stride=2, padding=0, dilation=1, ceil_mode=False)\n",
            "  )\n",
            "  (cn2): Sequential(\n",
            "    (0): Conv2d(32, 64, kernel_size=(3, 3), stride=(1, 1))\n",
            "    (1): BatchNorm2d(64, eps=1e-05, momentum=0.1, affine=True, track_running_stats=True)\n",
            "    (2): ReLU()\n",
            "    (3): MaxPool2d(kernel_size=2, stride=2, padding=0, dilation=1, ceil_mode=False)\n",
            "  )\n",
            "  (fc1): Linear(in_features=2304, out_features=600, bias=True)\n",
            "  (drop): Dropout2d(p=0.25, inplace=False)\n",
            "  (fc2): Linear(in_features=600, out_features=120, bias=True)\n",
            "  (fc3): Linear(in_features=120, out_features=10, bias=True)\n",
            ")\n"
          ]
        }
      ]
    },
    {
      "cell_type": "code",
      "metadata": {
        "id": "XHGAenL0Fu7R"
      },
      "source": [
        "criteraion = nn.CrossEntropyLoss()\n",
        "optimizer = optim.SGD(model.parameters(), lr=0.001, momentum=0.9)"
      ],
      "execution_count": 122,
      "outputs": []
    },
    {
      "cell_type": "markdown",
      "metadata": {
        "id": "NV5_xdUsGB1x"
      },
      "source": [
        "## 모델 학습"
      ]
    },
    {
      "cell_type": "code",
      "metadata": {
        "id": "NzwisgcADQOD",
        "colab": {
          "base_uri": "https://localhost:8080/"
        },
        "outputId": "5edeb721-b591-4880-9cba-ef4db1e654b6"
      },
      "source": [
        "loss_history = []\n",
        "acc_history = []\n",
        "\n",
        "for epoch in range(10):\n",
        "\n",
        "  running_loss = 0.0\n",
        "  running_corrects = 0\n",
        "\n",
        "  for i, data in enumerate(train_loader, 0):\n",
        "    inputs, labels = data[0].to(device), data[1].to(device)\n",
        "    optimizer.zero_grad()\n",
        "    outputs = model(inputs)\n",
        "    loss = criterion(outputs, labels)\n",
        "    _, preds = torch.max(outputs, 1)\n",
        "    loss.backward()\n",
        "    optimizer.step()\n",
        "\n",
        "    running_loss += loss.item() * inputs.size(0)\n",
        "    running_corrects += torch.sum(preds == labels.data)\n",
        "\n",
        "  epoch_loss = running_loss / len(train_loader.dataset)\n",
        "  epoch_acc = running_corrects.to('cpu').numpy() / len(train_loader.dataset)\n",
        "  print('Epoch: {}, Loss: {:.5}, Acc: {:.5f}' .format(epoch+1, epoch_loss, epoch_acc))\n",
        "\n",
        "  loss_history.append(epoch_loss)\n",
        "  acc_history.append(epoch_acc)"
      ],
      "execution_count": 123,
      "outputs": [
        {
          "output_type": "stream",
          "name": "stdout",
          "text": [
            "Epoch: 1, Loss: 0.70769, Acc: 0.76645\n",
            "Epoch: 2, Loss: 0.40432, Acc: 0.85817\n",
            "Epoch: 3, Loss: 0.3475, Acc: 0.87715\n",
            "Epoch: 4, Loss: 0.31264, Acc: 0.88995\n",
            "Epoch: 5, Loss: 0.29307, Acc: 0.89713\n",
            "Epoch: 6, Loss: 0.2758, Acc: 0.90232\n",
            "Epoch: 7, Loss: 0.262, Acc: 0.90698\n",
            "Epoch: 8, Loss: 0.24959, Acc: 0.91087\n",
            "Epoch: 9, Loss: 0.24156, Acc: 0.91477\n",
            "Epoch: 10, Loss: 0.23096, Acc: 0.91825\n"
          ]
        }
      ]
    },
    {
      "cell_type": "code",
      "source": [
        "plt.plot(loss_history)\n",
        "plt.plot(acc_history)\n",
        "plt.show()"
      ],
      "metadata": {
        "id": "nkkq3gR5CBqo",
        "colab": {
          "base_uri": "https://localhost:8080/",
          "height": 265
        },
        "outputId": "01e1303b-8ca0-4650-81d0-652d3b278cfc"
      },
      "execution_count": 124,
      "outputs": [
        {
          "output_type": "display_data",
          "data": {
            "text/plain": [
              "<Figure size 432x288 with 1 Axes>"
            ],
            "image/png": "[encoded data removed]"
          },
          "metadata": {
            "needs_background": "light"
          }
        }
      ]
    },
    {
      "cell_type": "markdown",
      "metadata": {
        "id": "5IecfHZiI09W"
      },
      "source": [
        "## 모델 평가"
      ]
    },
    {
      "cell_type": "code",
      "source": [
        "def imshow(image):\n",
        "  image = image / 2 + 0.5\n",
        "  npimg = image.numpy()\n",
        "\n",
        "  fig = plt.figure(figsize=(16, 8))\n",
        "  plt.imshow(np.transpose(npimg, (1, 2, 0)))\n",
        "  plt.show()"
      ],
      "metadata": {
        "id": "9OmM9p4J6pu8"
      },
      "execution_count": 125,
      "outputs": []
    },
    {
      "cell_type": "code",
      "metadata": {
        "id": "QewXif2NDQYZ",
        "colab": {
          "base_uri": "https://localhost:8080/",
          "height": 206
        },
        "outputId": "9d647418-f241-47a2-da9a-bc1f328e1fc2"
      },
      "source": [
        "dataiter = iter(test_loader)\n",
        "images, labels = dataiter.next()\n",
        "\n",
        "imshow(torchvision.utils.make_grid(images[:6]))"
      ],
      "execution_count": 127,
      "outputs": [
        {
          "output_type": "display_data",
          "data": {
            "text/plain": [
              "<Figure size 1152x576 with 1 Axes>"
            ],
            "image/png": "[encoded data removed]"
          },
          "metadata": {
            "needs_background": "light"
          }
        }
      ]
    },
    {
      "cell_type": "code",
      "metadata": {
        "id": "9yaMMa8VDQdI",
        "colab": {
          "base_uri": "https://localhost:8080/"
        },
        "outputId": "d2051895-ef1e-4413-a449-4f0020ad9266"
      },
      "source": [
        "images = images.to(device)\n",
        "labels = labels.to(device)\n",
        "\n",
        "outputs = model(images)\n",
        "\n",
        "_, predicted = torch.max(outputs, 1)\n",
        "print(predicted[:6])"
      ],
      "execution_count": 128,
      "outputs": [
        {
          "output_type": "stream",
          "name": "stdout",
          "text": [
            "tensor([9, 2, 1, 1, 6, 1], device='cuda:0')\n"
          ]
        }
      ]
    },
    {
      "cell_type": "code",
      "metadata": {
        "id": "qOQWilyPOja5",
        "colab": {
          "base_uri": "https://localhost:8080/"
        },
        "outputId": "6b1f9bab-9510-4153-fc68-a91eb315b7ba"
      },
      "source": [
        "print(''.join('{}, ' .format(labels_map[int(predicted[j].to('cpu').numpy())]) for j in range(6)))"
      ],
      "execution_count": 130,
      "outputs": [
        {
          "output_type": "stream",
          "name": "stdout",
          "text": [
            "Anckel Boot, Pullover, Trouser, Trouser, Shirt, Trouser, \n"
          ]
        }
      ]
    },
    {
      "cell_type": "code",
      "metadata": {
        "id": "T1qsc9TUDQfk",
        "colab": {
          "base_uri": "https://localhost:8080/"
        },
        "outputId": "1dec4a7a-33d4-49e7-bbfe-0d08c1e50c06"
      },
      "source": [
        "correct = 0\n",
        "total = 0\n",
        "\n",
        "with torch.no_grad():\n",
        "  for data in test_loader:\n",
        "    images, labels = data[0].to(device), data[1].to(device)\n",
        "    outputs = model(images)\n",
        "    _, predicted = torch.max(outputs.data, 1)\n",
        "    total += labels.size(0)\n",
        "    correct += (predicted == labels).sum().item()\n",
        "\n",
        "print(100 * correct / total)"
      ],
      "execution_count": 131,
      "outputs": [
        {
          "output_type": "stream",
          "name": "stdout",
          "text": [
            "89.45\n"
          ]
        }
      ]
    },
    {
      "cell_type": "markdown",
      "source": [
        "# CIFAR10 분류 모델"
      ],
      "metadata": {
        "id": "AF3Pd1tFCXmB"
      }
    },
    {
      "cell_type": "markdown",
      "metadata": {
        "id": "a4HzFx19PNYv"
      },
      "source": [
        "## 데이터 준비"
      ]
    },
    {
      "cell_type": "code",
      "metadata": {
        "id": "ctstlIt_PM9z",
        "colab": {
          "base_uri": "https://localhost:8080/",
          "height": 103,
          "referenced_widgets": [
            "c3c8e3d833b347278369860a20b0294d",
            "ba579c7f5bdf465cba3c5318605f0905",
            "a6ffebe1de3445f3bd60a2ae13683483",
            "c4b29f7c33fd46f49efdfe759d15d2d2",
            "25dc19ccaa314477ab76848c6c49e594",
            "562a44451bd54f3cbfaf802fab681ac4",
            "7211d12c88924dd3813ccf110dbde6fb",
            "ffb59bf333bd49d198adb2a85859b923",
            "cbbae6921a654ed081d47ee46c9c4cc3",
            "13e8510a09c74509bfc2c6cfde23ca0d",
            "a7f92d1c37254ffab074f38b6cff294a"
          ]
        },
        "outputId": "bc6a355d-fc4e-4b02-957a-7cf6e3524355"
      },
      "source": [
        "trainset = datasets.CIFAR10(root='/content',\n",
        "                            train=True,\n",
        "                            download=True,\n",
        "                            transform=transforms)\n",
        "testset = datasets.CIFAR10(root='/content',\n",
        "                            train=False,\n",
        "                            download=True,\n",
        "                            transform=transforms)"
      ],
      "execution_count": 132,
      "outputs": [
        {
          "output_type": "stream",
          "name": "stdout",
          "text": [
            "Downloading https://www.cs.toronto.edu/~kriz/cifar-10-python.tar.gz to /content/cifar-10-python.tar.gz\n"
          ]
        },
        {
          "output_type": "display_data",
          "data": {
            "text/plain": [
              "  0%|          | 0/170498071 [00:00<?, ?it/s]"
            ],
            "application/vnd.jupyter.widget-view+json": {
              "version_major": 2,
              "version_minor": 0,
              "model_id": "c3c8e3d833b347278369860a20b0294d"
            }
          },
          "metadata": {}
        },
        {
          "output_type": "stream",
          "name": "stdout",
          "text": [
            "Extracting /content/cifar-10-python.tar.gz to /content\n",
            "Files already downloaded and verified\n"
          ]
        }
      ]
    },
    {
      "cell_type": "code",
      "metadata": {
        "id": "wTkTcictPTyY"
      },
      "source": [
        "train_loader = DataLoader(trainset, batch_size=32, shuffle=True, num_workers=2)\n",
        "test_loader = DataLoader(testset, batch_size=32, shuffle=False, num_workers=2)"
      ],
      "execution_count": 133,
      "outputs": []
    },
    {
      "cell_type": "code",
      "metadata": {
        "id": "_6IsY5CrPZ5e",
        "colab": {
          "base_uri": "https://localhost:8080/"
        },
        "outputId": "51b82858-002b-44c1-93f2-7ac9f406ffea"
      },
      "source": [
        "images, labels = next(iter(train_loader))\n",
        "images.shape, labels.shape"
      ],
      "execution_count": 134,
      "outputs": [
        {
          "output_type": "execute_result",
          "data": {
            "text/plain": [
              "(torch.Size([32, 3, 32, 32]), torch.Size([32]))"
            ]
          },
          "metadata": {},
          "execution_count": 134
        }
      ]
    },
    {
      "cell_type": "code",
      "source": [
        "classes =('plane', 'car', 'bird', 'cat', 'deer',\n",
        "          'dog', 'frog', 'horse', 'ship', 'truck')"
      ],
      "metadata": {
        "id": "BfYJrsWxv7h5"
      },
      "execution_count": 136,
      "outputs": []
    },
    {
      "cell_type": "code",
      "metadata": {
        "id": "wmgikI6DPadZ",
        "colab": {
          "base_uri": "https://localhost:8080/",
          "height": 113
        },
        "outputId": "b72d4f45-442b-4ede-9467-ec3293402dc1"
      },
      "source": [
        "def imshow(image):\n",
        "  image = image / 2 + 0.5\n",
        "  npimg = image.numpy()\n",
        "  plt.imshow(np.transpose(npimg, (1, 2, 0)))\n",
        "  plt.show()\n",
        "\n",
        "dataiter = iter(train_loader)\n",
        "images, labels = dataiter.next()\n",
        "\n",
        "imshow(torchvision.utils.make_grid(images[:8]))\n",
        "print(''.join('{}, ' .format(classes[labels[j]]) for j in range(8)))"
      ],
      "execution_count": 137,
      "outputs": [
        {
          "output_type": "display_data",
          "data": {
            "text/plain": [
              "<Figure size 432x288 with 1 Axes>"
            ],
            "image/png": "[encoded data removed]"
          },
          "metadata": {
            "needs_background": "light"
          }
        },
        {
          "output_type": "stream",
          "name": "stdout",
          "text": [
            "car, bird, deer, deer, truck, dog, dog, frog, \n"
          ]
        }
      ]
    },
    {
      "cell_type": "markdown",
      "metadata": {
        "id": "hZgB4eq0Pk6c"
      },
      "source": [
        "## 모델 정의 및 파라미터"
      ]
    },
    {
      "cell_type": "code",
      "metadata": {
        "id": "E2OMzoFHPeFZ",
        "colab": {
          "base_uri": "https://localhost:8080/"
        },
        "outputId": "982b1c74-c3bb-4f4a-c932-34aacfe7ed17"
      },
      "source": [
        "class CNN(nn.Module):\n",
        "  def __init__(self):\n",
        "    super(CNN, self).__init__()\n",
        "    self.cn1 = nn.Sequential(\n",
        "        nn.Conv2d(in_channels=3, out_channels=32, kernel_size=5, padding=1),\n",
        "        nn.BatchNorm2d(32),\n",
        "        nn.ReLU(),\n",
        "        nn.MaxPool2d(kernel_size=2, stride=2)\n",
        "    )\n",
        "\n",
        "    self.cn2 = nn.Sequential(\n",
        "        nn.Conv2d(in_channels=32, out_channels=64, kernel_size=5),\n",
        "        nn.BatchNorm2d(64),\n",
        "        nn.ReLU(),\n",
        "        nn.MaxPool2d(kernel_size=2)\n",
        "    )\n",
        "\n",
        "    self.fc1 = nn.Linear(in_features=64*5*5, out_features=600)\n",
        "    self.drop = nn.Dropout2d(0.25)\n",
        "    self.fc2 = nn.Linear(in_features=600, out_features=120)\n",
        "    self.fc3 = nn.Linear(in_features=120, out_features=10)\n",
        "\n",
        "  def forward(self, inputs):\n",
        "    out = self.cn1(inputs)\n",
        "    out = self.cn2(out)\n",
        "    out = out.view(out.size(0), -1)\n",
        "    out = self.fc1(out)\n",
        "    out = self.drop(out)\n",
        "    out = self.fc2(out)\n",
        "    out = self.fc3(out)\n",
        "    return out\n",
        "\n",
        "model = CNN().to(device)\n",
        "print(model)"
      ],
      "execution_count": 138,
      "outputs": [
        {
          "output_type": "stream",
          "name": "stdout",
          "text": [
            "CNN(\n",
            "  (cn1): Sequential(\n",
            "    (0): Conv2d(3, 32, kernel_size=(5, 5), stride=(1, 1), padding=(1, 1))\n",
            "    (1): BatchNorm2d(32, eps=1e-05, momentum=0.1, affine=True, track_running_stats=True)\n",
            "    (2): ReLU()\n",
            "    (3): MaxPool2d(kernel_size=2, stride=2, padding=0, dilation=1, ceil_mode=False)\n",
            "  )\n",
            "  (cn2): Sequential(\n",
            "    (0): Conv2d(32, 64, kernel_size=(5, 5), stride=(1, 1))\n",
            "    (1): BatchNorm2d(64, eps=1e-05, momentum=0.1, affine=True, track_running_stats=True)\n",
            "    (2): ReLU()\n",
            "    (3): MaxPool2d(kernel_size=2, stride=2, padding=0, dilation=1, ceil_mode=False)\n",
            "  )\n",
            "  (fc1): Linear(in_features=1600, out_features=600, bias=True)\n",
            "  (drop): Dropout2d(p=0.25, inplace=False)\n",
            "  (fc2): Linear(in_features=600, out_features=120, bias=True)\n",
            "  (fc3): Linear(in_features=120, out_features=10, bias=True)\n",
            ")\n"
          ]
        }
      ]
    },
    {
      "cell_type": "code",
      "metadata": {
        "id": "X5SzxufZPpel"
      },
      "source": [
        "criterion = nn.CrossEntropyLoss()\n",
        "optimizer = optim.SGD(model.parameters(), lr=0.001, momentum=0.9)"
      ],
      "execution_count": 139,
      "outputs": []
    },
    {
      "cell_type": "markdown",
      "metadata": {
        "id": "_UnbIcKaPyQv"
      },
      "source": [
        "## 모델 학습"
      ]
    },
    {
      "cell_type": "code",
      "metadata": {
        "id": "jlWiR3LwPuwa",
        "colab": {
          "base_uri": "https://localhost:8080/"
        },
        "outputId": "0eaf1e86-db6c-45b0-90f6-883ec0321c7f"
      },
      "source": [
        "loss_history = []\n",
        "acc_history = []\n",
        "\n",
        "for epoch in range(10):\n",
        "\n",
        "  running_loss = 0.0\n",
        "  running_corrects = 0\n",
        "\n",
        "  for i, data in enumerate(train_loader, 0):\n",
        "    inputs, labels = data[0].to(device), data[1].to(device)\n",
        "    optimizer.zero_grad()\n",
        "    outputs = model(inputs)\n",
        "    loss = criterion(outputs, labels)\n",
        "    _, preds = torch.max(outputs, 1)\n",
        "    loss.backward()\n",
        "    optimizer.step()\n",
        "\n",
        "    running_loss += loss.item() * inputs.size(0)\n",
        "    running_corrects += torch.sum(preds == labels.data)\n",
        "\n",
        "  epoch_loss = running_loss / len(train_loader.dataset)\n",
        "  epoch_acc = running_corrects.to('cpu').numpy() / len(train_loader.dataset)\n",
        "  print('Epoch: {}, Loss: {:.5}, Acc: {:.5f}' .format(epoch+1, epoch_loss, epoch_acc))\n",
        "\n",
        "  loss_history.append(epoch_loss)\n",
        "  acc_history.append(epoch_acc)"
      ],
      "execution_count": 140,
      "outputs": [
        {
          "output_type": "stream",
          "name": "stdout",
          "text": [
            "Epoch: 1, Loss: 1.4465, Acc: 0.48052\n",
            "Epoch: 2, Loss: 1.102, Acc: 0.61158\n",
            "Epoch: 3, Loss: 0.97684, Acc: 0.65902\n",
            "Epoch: 4, Loss: 0.88362, Acc: 0.69186\n",
            "Epoch: 5, Loss: 0.83329, Acc: 0.71062\n",
            "Epoch: 6, Loss: 0.78067, Acc: 0.72952\n",
            "Epoch: 7, Loss: 0.74147, Acc: 0.74240\n",
            "Epoch: 8, Loss: 0.70293, Acc: 0.75590\n",
            "Epoch: 9, Loss: 0.67696, Acc: 0.76510\n",
            "Epoch: 10, Loss: 0.64517, Acc: 0.77536\n"
          ]
        }
      ]
    },
    {
      "cell_type": "code",
      "source": [
        "plt.plot(loss_history)\n",
        "plt.plot(acc_history)\n",
        "plt.show()"
      ],
      "metadata": {
        "id": "N2d8iGaAI2Mc",
        "colab": {
          "base_uri": "https://localhost:8080/",
          "height": 265
        },
        "outputId": "1abee7e2-7349-4133-96c6-7dbd1568e596"
      },
      "execution_count": 141,
      "outputs": [
        {
          "output_type": "display_data",
          "data": {
            "text/plain": [
              "<Figure size 432x288 with 1 Axes>"
            ],
            "image/png": "[encoded data removed]"
          },
          "metadata": {
            "needs_background": "light"
          }
        }
      ]
    },
    {
      "cell_type": "markdown",
      "metadata": {
        "id": "1dvGiVkrQ2cf"
      },
      "source": [
        "## 모델 평가"
      ]
    },
    {
      "cell_type": "code",
      "metadata": {
        "id": "qArCdXYZDHaX",
        "colab": {
          "base_uri": "https://localhost:8080/",
          "height": 95
        },
        "outputId": "0cb9b4e7-f9ac-4cbe-d7e6-11f852bbe3c2"
      },
      "source": [
        "dataiter = iter(test_loader)\n",
        "images, labels = dataiter.next()\n",
        "\n",
        "imshow(torchvision.utils.make_grid(images[:8]))"
      ],
      "execution_count": 142,
      "outputs": [
        {
          "output_type": "display_data",
          "data": {
            "text/plain": [
              "<Figure size 432x288 with 1 Axes>"
            ],
            "image/png": "[encoded data removed]"
          },
          "metadata": {
            "needs_background": "light"
          }
        }
      ]
    },
    {
      "cell_type": "code",
      "metadata": {
        "id": "LtMeWhrrDHaX",
        "colab": {
          "base_uri": "https://localhost:8080/"
        },
        "outputId": "d72d63e8-bb74-4cf0-8237-ca807bad4a4e"
      },
      "source": [
        "images = images.to(device)\n",
        "labels = labels.to(device)\n",
        "\n",
        "outputs = model(images)\n",
        "\n",
        "_, predicted = torch.max(outputs, 1)\n",
        "print(predicted[:8])"
      ],
      "execution_count": 143,
      "outputs": [
        {
          "output_type": "stream",
          "name": "stdout",
          "text": [
            "tensor([3, 8, 8, 0, 6, 6, 1, 6], device='cuda:0')\n"
          ]
        }
      ]
    },
    {
      "cell_type": "code",
      "metadata": {
        "id": "8xWeH9nHDHaX",
        "colab": {
          "base_uri": "https://localhost:8080/"
        },
        "outputId": "387d0fd0-936b-4e5a-ff7c-0300165f4040"
      },
      "source": [
        "print(''.join('{}, '.format(classes[int(predicted[j].to('cpu').numpy())]) for j in range(8)))"
      ],
      "execution_count": 148,
      "outputs": [
        {
          "output_type": "stream",
          "name": "stdout",
          "text": [
            "cat, ship, ship, plane, frog, frog, car, frog, \n"
          ]
        }
      ]
    },
    {
      "cell_type": "code",
      "metadata": {
        "id": "ajGFbhDvQtlp",
        "colab": {
          "base_uri": "https://localhost:8080/"
        },
        "outputId": "f17f836a-82fb-4dbc-dd28-cf7cbb0b7487"
      },
      "source": [
        "correct = 0\n",
        "total = 0\n",
        "\n",
        "with torch.no_grad():\n",
        "  for data in test_loader:\n",
        "    images, labels = data[0].to(device), data[1].to(device)\n",
        "    outputs = model(images)\n",
        "    _, predicted = torch.max(outputs.data, 1)\n",
        "    total += labels.size(0)\n",
        "    correct += (predicted == labels).sum().item()\n",
        "\n",
        "print(100 * correct / total)"
      ],
      "execution_count": 149,
      "outputs": [
        {
          "output_type": "stream",
          "name": "stdout",
          "text": [
            "72.11\n"
          ]
        }
      ]
    },
    {
      "cell_type": "markdown",
      "metadata": {
        "id": "trWVf5YvRYI0"
      },
      "source": [
        "클래스별로 어떤 것을 잘 분류했고, 잘 못했는지 확인"
      ]
    },
    {
      "cell_type": "code",
      "metadata": {
        "id": "P9p7QKhDQzpC",
        "colab": {
          "base_uri": "https://localhost:8080/"
        },
        "outputId": "af297f27-d86a-4ad1-bc84-638544c8d5a5"
      },
      "source": [
        "class_correct = list(0. for i in range(10))\n",
        "class_total = list(0. for i in range(10))\n",
        "\n",
        "with torch.no_grad():\n",
        "  for data in test_loader:\n",
        "    images, labels = data[0].to(device), data[1].to(device)\n",
        "    outputs = model(images)\n",
        "    _, predicted = torch.max(outputs.data, 1)\n",
        "    c = (predicted == labels).squeeze()\n",
        "    for i in range(4):\n",
        "      label = labels[i]\n",
        "      class_correct[label] += c[i].item()\n",
        "      class_total[label] += 1\n",
        "\n",
        "for i in range(10):\n",
        "  print(\"Accuracy of {}: {}%\".format(classes[i], 100 * class_correct[i] / class_total[i]))"
      ],
      "execution_count": 150,
      "outputs": [
        {
          "output_type": "stream",
          "name": "stdout",
          "text": [
            "Accuracy of plane: 74.33628318584071%\n",
            "Accuracy of car: 75.65217391304348%\n",
            "Accuracy of bird: 52.63157894736842%\n",
            "Accuracy of cat: 44.96124031007752%\n",
            "Accuracy of deer: 65.9090909090909%\n",
            "Accuracy of dog: 65.48672566371681%\n",
            "Accuracy of frog: 78.51239669421487%\n",
            "Accuracy of horse: 82.03125%\n",
            "Accuracy of ship: 85.84070796460178%\n",
            "Accuracy of truck: 88.23529411764706%\n"
          ]
        }
      ]
    }
  ]
}